{
 "cells": [
  {
   "cell_type": "markdown",
   "metadata": {},
   "source": [
    "# Flow Across Bump - Energetics v2\n",
    "See a movie of model run at https://vimeo.com/200374154"
   ]
  },
  {
   "cell_type": "code",
   "execution_count": 1,
   "metadata": {},
   "outputs": [
    {
     "data": {
      "application/json": {
       "Software versions": [
        {
         "module": "Python",
         "version": "3.6.1 64bit [GCC 4.2.1 Compatible Apple LLVM 6.0 (clang-600.0.57)]"
        },
        {
         "module": "IPython",
         "version": "6.1.0"
        },
        {
         "module": "OS",
         "version": "Darwin 16.7.0 x86_64 i386 64bit"
        },
        {
         "module": "numpy",
         "version": "1.13.1"
        },
        {
         "module": "xarray",
         "version": "0.9.6"
        },
        {
         "module": "gsw",
         "version": "3.1.1"
        }
       ]
      },
      "text/html": [
       "<table><tr><th>Software</th><th>Version</th></tr><tr><td>Python</td><td>3.6.1 64bit [GCC 4.2.1 Compatible Apple LLVM 6.0 (clang-600.0.57)]</td></tr><tr><td>IPython</td><td>6.1.0</td></tr><tr><td>OS</td><td>Darwin 16.7.0 x86_64 i386 64bit</td></tr><tr><td>numpy</td><td>1.13.1</td></tr><tr><td>xarray</td><td>0.9.6</td></tr><tr><td>gsw</td><td>3.1.1</td></tr><tr><td colspan='2'>Wed Aug 02 13:30:41 2017 PDT</td></tr></table>"
      ],
      "text/latex": [
       "\\begin{tabular}{|l|l|}\\hline\n",
       "{\\bf Software} & {\\bf Version} \\\\ \\hline\\hline\n",
       "Python & 3.6.1 64bit [GCC 4.2.1 Compatible Apple LLVM 6.0 (clang-600.0.57)] \\\\ \\hline\n",
       "IPython & 6.1.0 \\\\ \\hline\n",
       "OS & Darwin 16.7.0 x86\\_64 i386 64bit \\\\ \\hline\n",
       "numpy & 1.13.1 \\\\ \\hline\n",
       "xarray & 0.9.6 \\\\ \\hline\n",
       "gsw & 3.1.1 \\\\ \\hline\n",
       "\\hline \\multicolumn{2}{|l|}{Wed Aug 02 13:30:41 2017 PDT} \\\\ \\hline\n",
       "\\end{tabular}\n"
      ],
      "text/plain": [
       "Software versions\n",
       "Python 3.6.1 64bit [GCC 4.2.1 Compatible Apple LLVM 6.0 (clang-600.0.57)]\n",
       "IPython 6.1.0\n",
       "OS Darwin 16.7.0 x86_64 i386 64bit\n",
       "numpy 1.13.1\n",
       "xarray 0.9.6\n",
       "gsw 3.1.1\n",
       "Wed Aug 02 13:30:41 2017 PDT"
      ]
     },
     "execution_count": 1,
     "metadata": {},
     "output_type": "execute_result"
    }
   ],
   "source": [
    "%load_ext version_information \n",
    "%version_information numpy,xarray,gsw"
   ]
  },
  {
   "cell_type": "code",
   "execution_count": 2,
   "metadata": {},
   "outputs": [],
   "source": [
    "# %load /Users/gunnar/Projects/python/standard_imports.py\n",
    "# %matplotlib notebook\n",
    "%matplotlib inline\n",
    "import scipy as sp\n",
    "import matplotlib.pyplot as plt\n",
    "import matplotlib as mpl\n",
    "import numpy as np\n",
    "import xarray as xr\n",
    "import gsw\n",
    "\n",
    "import warnings\n",
    "warnings.filterwarnings('ignore')\n",
    "mpl.rcParams.update({'font.size': 12})"
   ]
  },
  {
   "cell_type": "markdown",
   "metadata": {},
   "source": [
    "## Read model data\n",
    "Unfortunately the variables in `state.glob.nc` are written to different time steps than the diagnostic variables. We'll interpolate to the time vector of the diagnostic variables where needed."
   ]
  },
  {
   "cell_type": "code",
   "execution_count": 116,
   "metadata": {},
   "outputs": [],
   "source": [
    "DataDir = '/Volumes/svalbard/mitgcm/bump/B6/run/allmnc/'\n",
    "# DataDir = '/Users/gunnar/Projects/model/bump_data/B6/allmnc/'\n",
    "\n",
    "# read grid parameters, diagnostics output and state variables\n",
    "b6 = xr.open_dataset(DataDir+'diag1.glob.nc')\n",
    "b6s = xr.open_dataset(DataDir+'state.glob.nc')\n",
    "grid = xr.open_dataset(DataDir+'grid.glob.nc')\n",
    "# load additional diagnostics\n",
    "b62 = xr.open_dataset(DataDir+'diag2.glob.nc')\n",
    "# |PHIBOT  |  1 |       |SM      M1|m^2/s^2         |Bottom Pressure Pot.(p/rho) Anomaly\n",
    "# |ETAN    |  1 |       |SM      M1|m               |Surface Height Anomaly\n",
    "\n",
    "# clean up and merge datasets\n",
    "b6 = b6.drop('UVEL')\n",
    "b6 = b6.squeeze('X')\n",
    "b6 = b6.drop(['Xp1','X','diag_levels','KLdiffKr','KLviscAr','WV_VEL','momKE'])\n",
    "b6 = b6.rename({'Zmd000100': 'Z','Zld000100': 'Zl'})\n",
    "b6['Z'] = (['Z'], grid.Z.values)\n",
    "b6['Zl'] = (['Zl'], grid.Zl.values)\n",
    "b6 = b6.rename({'VVEL': 'v', 'WVEL': 'w', 'THETA': 'th', 'KLeps': 'eps', 'PHIHYD': 'phihyd'})\n",
    "\n",
    "b62 = b62.drop('X')\n",
    "b62 = b62.squeeze()\n",
    "b62 = b62.drop('diag_levels')\n",
    "\n",
    "tmp = np.squeeze(b6s.phi_nh.values)\n",
    "tmp = (tmp[1:,:,:] + tmp[:-1,:,:]) / 2\n",
    "b6['phi_nh'] = (['T','Z','Y'], tmp)\n",
    "\n",
    "b = xr.merge([b6,b62,grid])\n",
    "b = b.rename({'ETAN': 'eta', 'PHIBOT': 'phibot'})\n",
    "\n",
    "# New y in km for plotting\n",
    "b = b.assign_coords(dist = b.Y/1000.-b.Y.mean()/1000.)\n",
    "b.dist.attrs['name'] = 'Distance in km centered on ridge'\n",
    "b.dist.attrs['units'] = 'km'\n",
    "b = b.assign_coords(time = b['T']/3600)\n",
    "b.time.attrs['name'] = 'Time in hours'\n",
    "b.time.attrs['units'] = 'h'\n",
    "\n",
    "\n",
    "# # note: we can also load dataset and grid together and then add other variables:\n",
    "# b = xr.open_mfdataset([DataDir+'grid.glob.nc',DataDir+'diag1.glob.nc'])\n",
    "# b['eta'] = (('T','Y'), np.squeeze(b62.ETAN.values))\n",
    "# b['phibot'] = (('T','Y'), np.squeeze(b62.PHIBOT.values))\n",
    "# tmp = np.squeeze(b6s.phi_nh)\n",
    "# tmp = (tmp[1:,:,:].values + tmp[:-1,:,:].values) / 2\n",
    "# b['phi_nh'] = (('T','Z','Y'), tmp)\n",
    "# del tmp\n",
    "# b = b.rename({'UVEL': 'u', 'VVEL': 'v', 'WVEL': 'w', 'THETA': 'th', 'KLeps': 'eps', 'PHIHYD': 'phihyd'})\n",
    "# # New y in km for plotting\n",
    "# b = b.assign_coords(YC0 = b.Y/1000.-b.Y.mean()/1000.)\n",
    "# b = b.assign_coords(time = b['T']/3600)"
   ]
  },
  {
   "cell_type": "code",
   "execution_count": 109,
   "metadata": {},
   "outputs": [
    {
     "data": {
      "text/plain": [
       "<matplotlib.collections.QuadMesh at 0x1233f55c0>"
      ]
     },
     "execution_count": 109,
     "metadata": {},
     "output_type": "execute_result"
    },
    {
     "data": {
      "image/png": "[encoded data removed]",
      "text/plain": [
       "<matplotlib.figure.Figure at 0x11d979780>"
      ]
     },
     "metadata": {},
     "output_type": "display_data"
    }
   ],
   "source": [
    "b.swap_dims({'Y': 'dist'}).v.isel(T=-1).plot()"
   ]
  },
  {
   "cell_type": "code",
   "execution_count": null,
   "metadata": {
    "collapsed": true
   },
   "outputs": [],
   "source": [
    "fileName = '/Users/gunnar/Projects/model/flow-across-bump/B6/input/Tref'\n",
    "tref = np.fromfile(fileName)"
   ]
  },
  {
   "cell_type": "code",
   "execution_count": null,
   "metadata": {},
   "outputs": [],
   "source": [
    "# dimensions\n",
    "m = grid.Y.shape[0]\n",
    "n = grid.Z.shape[0]\n",
    "tn = b6['T'].shape[0]"
   ]
  },
  {
   "cell_type": "markdown",
   "metadata": {},
   "source": [
    "## Easier plotting of fields"
   ]
  },
  {
   "cell_type": "code",
   "execution_count": null,
   "metadata": {
    "collapsed": true
   },
   "outputs": [],
   "source": [
    "def CenterPlot(dy=50,ax=0):\n",
    "    if ax==0:\n",
    "        ax = plt.gca()\n",
    "    ax.set(xlim=my+(-dy,dy))"
   ]
  },
  {
   "cell_type": "code",
   "execution_count": null,
   "metadata": {
    "collapsed": true
   },
   "outputs": [],
   "source": [
    "def DistDepthPlot(field,dy=50):\n",
    "    fig,ax = plt.subplots(nrows=1,ncols=1,figsize=(8,5))\n",
    "    h = ax.contourf(dist,grid.Z,field)\n",
    "    CenterPlot(dy,ax=ax)\n",
    "    plt.colorbar(h,ax=ax)"
   ]
  },
  {
   "cell_type": "markdown",
   "metadata": {},
   "source": [
    "## Basic variables"
   ]
  },
  {
   "cell_type": "code",
   "execution_count": null,
   "metadata": {
    "collapsed": true
   },
   "outputs": [],
   "source": [
    "# center of domain in km\n",
    "my = grid.Y.values.mean()/1000\n",
    "# distance in km\n",
    "dist = grid.Y.values/1000"
   ]
  },
  {
   "cell_type": "markdown",
   "metadata": {},
   "source": [
    "Center of domain is at {{np.round(my,1)}}km."
   ]
  },
  {
   "cell_type": "code",
   "execution_count": null,
   "metadata": {
    "collapsed": true
   },
   "outputs": [],
   "source": [
    "# Density\n",
    "rho0 = 9.998000000000000e02 # from STDOUT, e.g.: grep -A 1 'rho' STDOUT.0000\n",
    "gravity = 9.81\n",
    "talpha = 2.0e-4\n",
    "# convert reference temperature profile to matrix\n",
    "trefm = np.tile(tref,(2000,1))\n",
    "trefm = np.transpose(trefm)\n",
    "# calculate densities\n",
    "temp = np.squeeze(b6.THETA.values)\n",
    "rho = rho0*(1-talpha*(temp))\n",
    "rhopert = -rho0*talpha*(temp-trefm)\n",
    "rhoref = -rho0*talpha*trefm"
   ]
  },
  {
   "cell_type": "code",
   "execution_count": null,
   "metadata": {
    "collapsed": true
   },
   "outputs": [],
   "source": [
    "# Pressure\n",
    "phi_hyd = b6.PHIHYD\n",
    "phi_nh = b6s.phi_nh\n",
    "\n",
    "# interpolate phi_nh to the time vector of phi_hyd\n",
    "tmp = np.squeeze(phi_nh)\n",
    "phi_nh2 = (tmp[1:,:,:].values + tmp[:-1,:,:].values) / 2\n",
    "phi_hyd2 = np.squeeze(phi_hyd.values)\n",
    "\n",
    "# R coordinate of cell center units: m\n",
    "RC = np.tile(grid.RC,(2000,1))\n",
    "\n",
    "# pressure perturbation\n",
    "PP = phi_hyd2*rho0\n",
    "q = phi_nh2*rho0"
   ]
  },
  {
   "cell_type": "code",
   "execution_count": null,
   "metadata": {
    "collapsed": true
   },
   "outputs": [],
   "source": [
    "# Bathy Mask\n",
    "BathyMask = np.squeeze(np.copy(grid.HFacC.values))\n",
    "BathyMask[BathyMask<=0] = 0\n",
    "BathyMaskNaN = BathyMask.copy()\n",
    "BathyMaskNaN[BathyMask<=0] = np.nan\n",
    "\n",
    "BathyMaskF = np.squeeze(np.copy(grid.HFacS.values))\n",
    "BathyMaskF[BathyMaskF<=0] = 0\n",
    "BathyMaskFNaN = BathyMaskF.copy()\n",
    "BathyMaskFNaN[BathyMaskF<=0] = np.nan"
   ]
  },
  {
   "cell_type": "code",
   "execution_count": null,
   "metadata": {
    "collapsed": true
   },
   "outputs": [],
   "source": [
    "# interpolate eta to time vector of the other variables\n",
    "eta = np.squeeze((b6s.Eta.values[1:,:,:] + b6s.Eta.values[:-1,:,:]) / 2)\n",
    "# Calculate height of water column (depth + eta)\n",
    "tmp = np.tile(grid.Depth.values,(1,154))\n",
    "tmp = np.rollaxis(tmp,0,2)\n",
    "H = tmp+eta"
   ]
  },
  {
   "cell_type": "code",
   "execution_count": null,
   "metadata": {
    "collapsed": true
   },
   "outputs": [],
   "source": [
    "phibot = b62.PHIBOT*rho0"
   ]
  },
  {
   "cell_type": "code",
   "execution_count": null,
   "metadata": {
    "collapsed": true
   },
   "outputs": [],
   "source": [
    "hfacC = np.squeeze(grid.HFacC.values)"
   ]
  },
  {
   "cell_type": "code",
   "execution_count": null,
   "metadata": {
    "collapsed": true
   },
   "outputs": [],
   "source": [
    "time = b6['T'].values/3600"
   ]
  },
  {
   "cell_type": "code",
   "execution_count": null,
   "metadata": {
    "collapsed": true
   },
   "outputs": [],
   "source": [
    "dyF = np.squeeze(grid.dyF.values)"
   ]
  },
  {
   "cell_type": "markdown",
   "metadata": {},
   "source": [
    "Horizontal eddy viscosity (`viscAh`)\n",
    "$$\\nu_H=10^{-4} \\mathrm{m}^2/\\mathrm{s}$$ \n",
    "Horizontal diffusivity of heat (and thereby mass with the LES, `diffKhT`):\n",
    "$$\\kappa_H=10^{-4} \\mathrm{m}^2/\\mathrm{s}$$ \n",
    "and vertical equivalents."
   ]
  },
  {
   "cell_type": "code",
   "execution_count": null,
   "metadata": {
    "collapsed": true
   },
   "outputs": [],
   "source": [
    "nuh = 1e-4\n",
    "kappah = 1e-4\n",
    "nuv = 1e-5\n",
    "kappav = 1e-5"
   ]
  },
  {
   "cell_type": "markdown",
   "metadata": {},
   "source": [
    "Bottom drag"
   ]
  },
  {
   "cell_type": "code",
   "execution_count": null,
   "metadata": {
    "collapsed": true
   },
   "outputs": [],
   "source": [
    "Cd = 1e-3"
   ]
  },
  {
   "cell_type": "markdown",
   "metadata": {},
   "source": [
    "## Barotropic/Baroclinic Velocities"
   ]
  },
  {
   "cell_type": "markdown",
   "metadata": {},
   "source": [
    "The horizontal barotropic velocity $V$ is defined as\n",
    "$$V = \\frac{1}{H} \\int_{-d}^{\\eta}\\, v\\, dz = \\frac{1}{H} \\overline{v}$$"
   ]
  },
  {
   "cell_type": "code",
   "execution_count": null,
   "metadata": {
    "collapsed": true
   },
   "outputs": [],
   "source": [
    "# barotropic horizontal velocity\n",
    "# Include the bottom cell as a fraction and also sea surface height eta\n",
    "\n",
    "# bring drF (cell height at faces) to matrix form\n",
    "drF = np.tile(grid.drF.values.T,(2001,1))\n",
    "drF = drF.T\n",
    "# bring drFC (cell height at faces) to matrix form\n",
    "drFC = np.tile(grid.drF.values.T,(2000,1))\n",
    "drFC = drFC.T\n",
    "\n",
    "# interpolate v from faces to center\n",
    "VF = np.squeeze(b6.VVEL.values)\n",
    "VC = (VF[:,:,1:]+VF[:,:,:-1]) / 2\n",
    "V = (np.sum(VC*drFC*hfacC,axis=1) + eta*VC[:,0,:])/ H"
   ]
  },
  {
   "cell_type": "code",
   "execution_count": null,
   "metadata": {
    "collapsed": true
   },
   "outputs": [],
   "source": [
    "# Bring barotropic V to size of baroclinic velocities v\n",
    "Vm = np.tile(V,(100,1,1))\n",
    "Vm = np.rollaxis(Vm,0,2)\n",
    "# Baroclinic horizontal velocity\n",
    "v = VC-Vm\n",
    "v = v*BathyMaskNaN"
   ]
  },
  {
   "cell_type": "markdown",
   "metadata": {},
   "source": [
    "Vertical velocity is decomposed as\n",
    "$$ w = W + w^\\prime$$\n",
    "where $W$ and $w^\\prime$ both satisfy the coninuity equation\n",
    "$$ \\frac{\\partial V}{\\partial y} + \\frac{\\partial W}{\\partial z} = 0$$\n",
    "$$ \\frac{\\partial v^\\prime}{\\partial y} + \\frac{\\partial w^\\prime}{\\partial z} = 0$$\n",
    "and the boundary conditions\n",
    "$$\\frac{\\partial \\eta}{\\partial t} + V \\cdot \\nabla_H \\eta = W\\quad \\mathrm{at}\\quad z = \\eta$$\n",
    "$$-V \\cdot \\nabla_H d = W \\quad \\mathrm{at} \\quad z=-d$$\n",
    "$$ v \\cdot \\nabla_H \\eta = w^\\prime \\quad \\mathrm{at} \\quad z=\\eta$$\n",
    "$$ -v \\cdot \\nabla_H d = w^\\prime \\quad \\mathrm{at} \\quad z=-d$$\n",
    "From the continuity equation\n",
    "$$ \\frac{\\partial W}{\\partial z} = -\\nabla_H \\cdot V$$\n",
    "$$ W(z) = -\\nabla_H \\left[ \\left(z+d\\right) V \\right]$$\n",
    "$$ W(z) = -\\nabla_H \\left(d V\\right) - z \\nabla_H \\cdot V$$ "
   ]
  },
  {
   "cell_type": "code",
   "execution_count": null,
   "metadata": {
    "collapsed": true
   },
   "outputs": [],
   "source": [
    "WF = np.squeeze(b6.WVEL)\n",
    "# interpolate from upper faces to cell centers. there are no velocities defined at\n",
    "# the bottom of the lowest cells. We'll simply repeat the velocities from the\n",
    "# cells above to end up with the right dimensions here.\n",
    "# np.dbstack() only works along the 3rd (last?) dimension, so we have to roll axes...\n",
    "WFr = np.rollaxis(WF.values,1,3)\n",
    "WF2 = np.dstack((WFr,WF[:,-1,:]))\n",
    "WF2 = np.rollaxis(WF2,2,1)\n",
    "WC = (WF2[:,1:,:]+WF2[:,:-1,:]) / 2"
   ]
  },
  {
   "cell_type": "code",
   "execution_count": null,
   "metadata": {
    "collapsed": true
   },
   "outputs": [],
   "source": [
    "d = np.tile(np.squeeze(grid.Depth),(100,1))\n",
    "d = np.rollaxis(d,0,1)\n",
    "z = np.rollaxis(np.tile(grid.Z.values,(2000,1)),0,2)\n",
    "W = -np.gradient((z+d)*Vm*BathyMaskNaN,grid.Y,axis=2)"
   ]
  },
  {
   "cell_type": "code",
   "execution_count": null,
   "metadata": {
    "collapsed": true
   },
   "outputs": [],
   "source": [
    "w = WC-W\n",
    "w = w*BathyMaskNaN"
   ]
  },
  {
   "cell_type": "markdown",
   "metadata": {},
   "source": [
    "## Energetics"
   ]
  },
  {
   "cell_type": "markdown",
   "metadata": {},
   "source": [
    "### Kinetic Energy\n",
    "The kinetic energy per unit volume, in units of J/m$^3$, is defined as\n",
    "\n",
    "$$ E_k = \\frac{1}{2} \\rho_0 \\mathbf{u} \\cdot \\mathbf{u}$$\n",
    "$$ E_k = E_{hk0} + E'_k + E'_{hk0}$$\n",
    "\n",
    "where (for our 2D case with east-west velocities being close to zero):\n",
    "\n",
    "$$ E_{hk0} = \\frac{1}{2} \\rho_0 \\mathbf{U_H} \\cdot \\mathbf{U_H} = \\frac{1}{2} \\rho_0 V^2$$\n",
    "$$ E'_k = \\frac{1}{2} \\rho_0 (\\mathbf{u'_H} \\cdot \\mathbf{u'_H} +w^2) = \\frac{1}{2} \\rho_0 (v^2 + w^2)$$\n",
    "$$ E'_{hk0} = \\frac{1}{2} \\rho_0 \\mathbf{U} \\cdot \\mathbf{u'} = \\frac{1}{2} \\rho_0 V v'$$\n",
    "\n",
    "with the barotropic horizontal kinetic energy $E_{hk0}$, baroclinic kinetic energy $E'_k$ and the cross term $E'_{hk0}$. The depth-integrated kinetic energy is\n",
    "\n",
    "$$\\overline{E_k} = \\overline{E_{hk0}} + \\overline{E'_k} + \\overline{E'_{hk0}}$$\n",
    "$$\\overline{E_k} = H E_{hk0} + \\overline{E'_k} +0.$$"
   ]
  },
  {
   "cell_type": "code",
   "execution_count": null,
   "metadata": {
    "collapsed": true
   },
   "outputs": [],
   "source": [
    "# full kinetic Energy\n",
    "Ek = 1/2*rho0*(VC**2 + WC**2)\n",
    "Ek = np.squeeze(Ek)*BathyMaskNaN"
   ]
  },
  {
   "cell_type": "code",
   "execution_count": null,
   "metadata": {
    "collapsed": true
   },
   "outputs": [],
   "source": [
    "# barotropic horizontal kinetic energy\n",
    "Ehk0 = 0.5*rho0*V**2\n",
    "# bring to matrix form for plotting\n",
    "Ehk0m = np.tile(Ehk0,(100,1,1))\n",
    "Ehk0m = np.rollaxis(Ehk0m,0,2)"
   ]
  },
  {
   "cell_type": "code",
   "execution_count": null,
   "metadata": {
    "collapsed": true
   },
   "outputs": [],
   "source": [
    "# baroclinic kinetic Energy\n",
    "Ekp = 0.5*rho0*(v**2 + WC**2)"
   ]
  },
  {
   "cell_type": "code",
   "execution_count": null,
   "metadata": {
    "collapsed": true
   },
   "outputs": [],
   "source": [
    "# cross term\n",
    "Ehk0p = 0.5*rho0*Vm*v"
   ]
  },
  {
   "cell_type": "markdown",
   "metadata": {},
   "source": [
    "Plot $E_k$, $E_{hk0}$, $E'_k$ and $E'_{hk0}$ for one time step"
   ]
  },
  {
   "cell_type": "code",
   "execution_count": null,
   "metadata": {},
   "outputs": [],
   "source": [
    "fig,ax = plt.subplots(ncols=4,figsize=(12,4))\n",
    "\n",
    "TimeStep = -1\n",
    "MaxC = 250\n",
    "\n",
    "# all\n",
    "EkMasked = np.ma.masked_where(np.squeeze(grid.HFacC)<=0, np.squeeze(Ek[TimeStep,:,:]))\n",
    "h = ax[0].pcolormesh(dist,grid.Z,EkMasked,cmap='Spectral_r',vmin=0,vmax=MaxC)\n",
    "CenterPlot(10,ax[0])\n",
    "plt.colorbar(h,extend='max',label='E$_k$ [J/m$^3$]',ax=ax[0]);\n",
    "ax[0].set_title('all')\n",
    "\n",
    "# barotropic\n",
    "Ehk0Masked = np.ma.masked_where(np.squeeze(grid.HFacC)<=0, np.squeeze(Ehk0m[TimeStep,:,:]))\n",
    "h = ax[1].pcolormesh(dist,grid.Z,Ehk0Masked,cmap='Spectral_r',vmin=0,vmax=MaxC)\n",
    "CenterPlot(10,ax[1])\n",
    "plt.colorbar(h,extend='max',label='E$_{hk0}$ [J/m$^3$]',ax=ax[1]);\n",
    "ax[1].set_title('barotropic')\n",
    "\n",
    "# baroclinic\n",
    "EkpMasked = np.ma.masked_where(np.squeeze(grid.HFacC)<=0, np.squeeze(Ekp[TimeStep,:,:]))\n",
    "h = ax[2].pcolormesh(dist,grid.Z,EkpMasked,cmap='Spectral_r',vmin=0,vmax=MaxC)\n",
    "CenterPlot(10,ax[2])\n",
    "plt.colorbar(h,extend='max',label='E''$_k$ [J/m$^3$]',ax=ax[2]);\n",
    "ax[2].set_title('baroclinic')\n",
    "\n",
    "# cross-terms\n",
    "Ehk0pMasked = np.ma.masked_where(np.squeeze(grid.HFacC)<=0, np.squeeze(Ehk0p[TimeStep,:,:]))\n",
    "h = ax[3].pcolormesh(dist,grid.Z,Ehk0pMasked,cmap='Spectral_r',vmin=0,vmax=MaxC)\n",
    "CenterPlot(10,ax[3])\n",
    "plt.colorbar(h,extend='max',label='E$_{hk0}$ [J/m$^3$]',ax=ax[3]);\n",
    "ax[3].set_title('cross term')\n",
    "\n",
    "plt.tight_layout()"
   ]
  },
  {
   "cell_type": "markdown",
   "metadata": {},
   "source": [
    "Depth-integrated kinetic energy. Cross term should come out to zero."
   ]
  },
  {
   "cell_type": "code",
   "execution_count": null,
   "metadata": {
    "collapsed": true
   },
   "outputs": [],
   "source": [
    "EkDepthIntegral = np.nansum(Ek*drFC*hfacC,axis=1) + Ek[:,0,:]*eta\n",
    "EkpDepthIntegral = np.nansum(Ekp*drFC*hfacC,axis=1) + Ekp[:,0,:]*eta\n",
    "Ehk0pDepthIntegral = np.nansum(Ehk0p*drFC*hfacC,axis=1) + Ehk0p[:,0,:]*eta\n",
    "Ehk0DepthIntegral = np.nansum(Ehk0m*drFC*hfacC,axis=1) + Ehk0*eta"
   ]
  },
  {
   "cell_type": "markdown",
   "metadata": {},
   "source": [
    "Plot all kinetic energy terms for last time step."
   ]
  },
  {
   "cell_type": "code",
   "execution_count": null,
   "metadata": {},
   "outputs": [],
   "source": [
    "fig,ax = plt.subplots(figsize=(8,5))\n",
    "ax.plot(dist,EkDepthIntegral[-1,:],label='$\\overline{E_k}$')\n",
    "ax.plot(dist,Ehk0DepthIntegral[-1,:],label='$\\overline{E_{hk0}}$')\n",
    "ax.plot(dist,EkpDepthIntegral[-1,:],label='$\\overline{E^\\prime_k}$')\n",
    "ax.plot(dist,Ehk0pDepthIntegral[-1,:],label='$\\overline{E^\\prime_{hk0}}$')\n",
    "ax.plot(dist,Ehk0DepthIntegral[-1,:]+EkpDepthIntegral[-1,:],\n",
    "         linestyle='--',label='$\\overline{E_{hk0}} + \\overline{E^\\prime_k}$')\n",
    "ax.legend();\n",
    "ax.set(ylabel='Depth-integrated Kinetic Energy [J/m$^2$]');"
   ]
  },
  {
   "cell_type": "markdown",
   "metadata": {},
   "source": [
    "Temporal evolution of depth-integrated baroclinic and barotropic kinetic energy."
   ]
  },
  {
   "cell_type": "code",
   "execution_count": null,
   "metadata": {},
   "outputs": [],
   "source": [
    "fig,ax = plt.subplots(ncols=2,figsize=(12,5))\n",
    "h = ax[0].contourf(dist,time,EkpDepthIntegral,np.linspace(0,8e4,17),cmap='Spectral_r',extend='max')\n",
    "plt.colorbar(h,ax=ax[0],label='E$^\\prime_k$ [J/m$^2$]')\n",
    "CenterPlot(25,ax[0])\n",
    "ax[0].set(xlabel='distance [km]',ylabel='time [h]',title='baroclinic kinetic energy')\n",
    "\n",
    "h = ax[1].contourf(dist,time,Ehk0DepthIntegral,np.linspace(0,8e4,17),cmap='Spectral_r',extend='max')\n",
    "plt.colorbar(h,ax=ax[1],label='E$_{hk0}$ [J/m$^2$]')\n",
    "CenterPlot(25,ax[1])\n",
    "ax[1].set(xlabel='distance [km]',ylabel='time [h]',title='barotropic kinetic energy');"
   ]
  },
  {
   "cell_type": "markdown",
   "metadata": {},
   "source": [
    "### Potential Energy\n",
    "#### Perturbation Potential Energy\n",
    "Perturbation potential energy per unit area [J/m$^2$]\n",
    "$$ \\overline{E_{p0}} = \\int_0^\\eta \\rho_0\\, g\\, z\\, dz = 1/2\\, \\rho_0\\, g\\, \\eta^2$$"
   ]
  },
  {
   "cell_type": "code",
   "execution_count": null,
   "metadata": {
    "collapsed": true
   },
   "outputs": [],
   "source": [
    "Ep0 = 0.5*rho0*gravity*eta**2"
   ]
  },
  {
   "cell_type": "code",
   "execution_count": null,
   "metadata": {},
   "outputs": [],
   "source": [
    "fig,ax = plt.subplots(figsize=(8,5))\n",
    "h = ax.contourf(dist,time,Ep0,np.linspace(0,2.5e2,21),cmap='Spectral_r')\n",
    "plt.colorbar(h,extend='max',label='E$_{p0}$ [J/m$^2$]')\n",
    "CenterPlot(25,ax=ax)\n",
    "ax.set(xlabel='distance [km]',ylabel='time [h]',title='perturbation potential energy');"
   ]
  },
  {
   "cell_type": "markdown",
   "metadata": {},
   "source": [
    "#### Available Potential Energy"
   ]
  },
  {
   "cell_type": "markdown",
   "metadata": {},
   "source": [
    "Available potential energy per unit volume [J/m$^3$]\n",
    "$$  E_p' = \\int_{z-\\zeta}^z g [\\rho(z)-\\rho_r(z')]dz' $$"
   ]
  },
  {
   "cell_type": "markdown",
   "metadata": {},
   "source": [
    "The APE can be approximated with the Linear Available Potential Energy Density, $APE$ and $APE_{lin}$ are the same when the stratification of the fluid is constant.\n",
    "$$ APE_{lin} = \\frac{g^2 \\rho'^2}{2 \\rho_0 N^2} $$\n",
    "with\n",
    "$$ N^2 = \\frac{g}{\\rho_0} \\frac{\\partial \\rho'}{\\partial z}$$"
   ]
  },
  {
   "cell_type": "markdown",
   "metadata": {},
   "source": [
    "In this case, we can use the linearized APE but would have to create a look-up table for the vertical distance of a given density to the reference density profile if stratification was non-linear."
   ]
  },
  {
   "cell_type": "code",
   "execution_count": null,
   "metadata": {
    "collapsed": true
   },
   "outputs": [],
   "source": [
    "Epp = gravity**2*(rhopert*BathyMaskNaN)**2/(2*rho0*1e-6)"
   ]
  },
  {
   "cell_type": "markdown",
   "metadata": {},
   "source": [
    "TODO: Calculate APE following Lamb as in the lee wave paper"
   ]
  },
  {
   "cell_type": "code",
   "execution_count": null,
   "metadata": {
    "collapsed": true
   },
   "outputs": [],
   "source": [
    "# def CalculateAPE(ty, ctd):\n",
    "#     ffsg = np.array(ctd['sg4filt'])\n",
    "#     ffz = np.array(ctd['z'])\n",
    "#     Ea = np.array([])\n",
    "#     for sg4 in ty.gsw_sigma4.values.T:\n",
    "#     # sg4 = ty.gsw_sigma4.values[:,11]\n",
    "#         zz = ty.z.values\n",
    "#         H = np.array([])\n",
    "#         drho = np.array([])\n",
    "#         for r, z in zip(sg4, zz):\n",
    "#             if ~np.isnan(r) and r>InterfaceSG4:\n",
    "#                 if r>np.max(sg4):\n",
    "#                     H = np.append(H, 5300-z)\n",
    "#                     i2 = gv.near(ffz, 5300)\n",
    "#                     iz = gv.near(ffz, z) # index of far field depth == towyo depth\n",
    "#                     drho = np.append(drho, r-(np.nanmean(ffsg[iz:i2])))\n",
    "#                 elif r>InterfaceSG4:\n",
    "#                     i2 = gv.near(ffsg, r) # index of far field sg==towyo sigma\n",
    "#                     iz = gv.near(ffz, z) # index of far field depth == towyo depth\n",
    "#                     H = np.append(H, ffz[i2]-z)\n",
    "#                     drho = np.append(drho, r-(np.nanmean(ffsg[iz:i2])))\n",
    "\n",
    "#         Eatmp = gsw.grav(np.nanmean(ty.lat)) * np.nanmean(H*drho)\n",
    "#         Ea = np.append(Ea, Eatmp)\n",
    "#     ty['APE'] = (['x'], Ea)\n",
    "#     return ty"
   ]
  },
  {
   "cell_type": "markdown",
   "metadata": {},
   "source": [
    "Depth-integrated APE"
   ]
  },
  {
   "cell_type": "code",
   "execution_count": null,
   "metadata": {
    "collapsed": true
   },
   "outputs": [],
   "source": [
    "EppDepthIntegral = np.nansum(Epp*drFC*hfacC,axis=1)"
   ]
  },
  {
   "cell_type": "code",
   "execution_count": null,
   "metadata": {},
   "outputs": [],
   "source": [
    "fig,ax = plt.subplots(figsize=(8,5))\n",
    "h = ax.pcolormesh(dist,time,EppDepthIntegral,cmap='Spectral_r')\n",
    "CenterPlot(25)\n",
    "plt.colorbar(h,ax=ax,label='E$^\\prime_p$ [J/m$^2$]')\n",
    "ax.set(xlabel='distance [km]',ylabel='time [h]',title='available potential energy');"
   ]
  },
  {
   "cell_type": "code",
   "execution_count": null,
   "metadata": {},
   "outputs": [],
   "source": [
    "ti = -1\n",
    "fig,ax = plt.subplots(figsize=(8,5))\n",
    "ax.plot(dist,EppDepthIntegral[ti,:],label='$\\overline{E^\\prime_p}$')\n",
    "# ax.plot(grid.Y/1e3,Ekind[ti,:],label='KE')\n",
    "ax.plot(dist,EkpDepthIntegral[ti,:],label='$\\overline{E^\\prime_k}$')\n",
    "ax.plot(dist,Ep0[ti,:],label='$\\overline{E_{p0}}$')\n",
    "ax.legend()\n",
    "ax.set(ylabel='$\\overline{E}$ [J/m$^2$]')\n",
    "CenterPlot()"
   ]
  },
  {
   "cell_type": "code",
   "execution_count": null,
   "metadata": {
    "collapsed": true
   },
   "outputs": [],
   "source": [
    "E = EppDepthIntegral+Ep0+EkDepthIntegral"
   ]
  },
  {
   "cell_type": "code",
   "execution_count": null,
   "metadata": {},
   "outputs": [],
   "source": [
    "fig,ax = plt.subplots(figsize=(8,5))\n",
    "h = ax.pcolormesh(dist,time,E,cmap='Spectral_r',vmin=0)\n",
    "plt.colorbar(h,label='E$^\\prime$ [J/m$^2$]')\n",
    "CenterPlot(50,ax=ax)\n",
    "ax.set(xlabel='distance [km]',ylabel='time [h]',title='$E^\\prime = E^\\prime_p + E^\\prime_k + E^\\prime_{hk0}$');"
   ]
  },
  {
   "cell_type": "markdown",
   "metadata": {},
   "source": [
    "## Buoyancy Flux and BT-BC Conversion"
   ]
  },
  {
   "cell_type": "markdown",
   "metadata": {},
   "source": [
    "The buoyancy flux is defined as\n",
    "$$F_B = \\rho' g w$$\n",
    "and the depth-integrated buoyancy flux within a fixed water column as\n",
    "$$\\overline{F_B} = \\int_{-d}^{\\eta} \\rho' g w\\, dz $$\n",
    "with density perturbation $\\rho'$, gravity $g$ and vertical velocity $w$."
   ]
  },
  {
   "cell_type": "markdown",
   "metadata": {},
   "source": [
    "The depth-integrated barotropic to baroclinic conversion term is defined as\n",
    "$$F_{Conv} = \\overline{\\rho' g W}$$\n",
    "with $W$ being the component of the vertical velocity that balances barotropic horizontal motion. Units of the depth-integrated conversion are W/m$^2$."
   ]
  },
  {
   "cell_type": "code",
   "execution_count": null,
   "metadata": {
    "collapsed": true
   },
   "outputs": [],
   "source": [
    "BuoyancyFlux = gravity*rhopert*WC"
   ]
  },
  {
   "cell_type": "code",
   "execution_count": null,
   "metadata": {
    "collapsed": true
   },
   "outputs": [],
   "source": [
    "BTBCConversion = gravity*rhopert*W"
   ]
  },
  {
   "cell_type": "markdown",
   "metadata": {
    "collapsed": true
   },
   "source": [
    "Depth integrals of buoyancy flux and BT-BC conversion"
   ]
  },
  {
   "cell_type": "code",
   "execution_count": null,
   "metadata": {
    "collapsed": true
   },
   "outputs": [],
   "source": [
    "# calculate depth at the grid faces from drF and HFacS\n",
    "# DepthC = np.sum(drFC*np.squeeze(grid.HFacC.values),axis=0)\n",
    "BuoyancyFluxDepthIntegral = np.nansum(BuoyancyFlux*drFC*hfacC,axis=1)\n",
    "BTBCConversionDepthIntegral = np.nansum(BTBCConversion*drFC*hfacC,axis=1)"
   ]
  },
  {
   "cell_type": "code",
   "execution_count": null,
   "metadata": {},
   "outputs": [],
   "source": [
    "fig,ax = plt.subplots(nrows=1,ncols=1,figsize=(8,5))\n",
    "h = ax.contourf(dist,time,BTBCConversionDepthIntegral,\n",
    "            np.linspace(0,8,33),cmap='Spectral_r',extend='both')\n",
    "plt.colorbar(h,ax=ax,label='BT/BC Conversion [W/m$^2$]')\n",
    "CenterPlot(25,ax=ax)\n",
    "ax.set(xlabel='distance [km]',ylabel='time [h]',title='BT/BC Conversion');"
   ]
  },
  {
   "cell_type": "markdown",
   "metadata": {},
   "source": [
    "The BT-BC conversion also has the non-hydrostatic part\n",
    "$$\\overline{\\frac{\\partial q}{\\partial z} W}$$"
   ]
  },
  {
   "cell_type": "code",
   "execution_count": null,
   "metadata": {
    "collapsed": true
   },
   "outputs": [],
   "source": [
    "qz = np.gradient(q,grid.Z,axis=1)"
   ]
  },
  {
   "cell_type": "code",
   "execution_count": null,
   "metadata": {
    "collapsed": true
   },
   "outputs": [],
   "source": [
    "nhBTBCConversion = qz*W"
   ]
  },
  {
   "cell_type": "markdown",
   "metadata": {},
   "source": [
    "Depth-integrated non-hydrostatic conversion"
   ]
  },
  {
   "cell_type": "code",
   "execution_count": null,
   "metadata": {
    "collapsed": true
   },
   "outputs": [],
   "source": [
    "nhBTBCConversionDepthIntegral = np.nansum(nhBTBCConversion*drFC*hfacC,axis=1)"
   ]
  },
  {
   "cell_type": "markdown",
   "metadata": {},
   "source": [
    "Total conversion:"
   ]
  },
  {
   "cell_type": "code",
   "execution_count": null,
   "metadata": {},
   "outputs": [],
   "source": [
    "fig,ax = plt.subplots(nrows=1,ncols=1,figsize=(8,5))\n",
    "h = ax.contourf(dist,time,BTBCConversionDepthIntegral-nhBTBCConversionDepthIntegral,\n",
    "             np.linspace(0,8,33),cmap='Spectral_r',extend='both')\n",
    "plt.colorbar(h,ax=ax,label='BT/BC Conversion [W/m$^2$]')\n",
    "CenterPlot(25,ax=ax)\n",
    "ax.set(xlabel='distance [km]',ylabel='time [h]',title='BT/BC Conversion');"
   ]
  },
  {
   "cell_type": "markdown",
   "metadata": {},
   "source": [
    "## Turbulent Dissipation\n",
    "Integrate turbulent dissipation from Jody's parametrization with depth."
   ]
  },
  {
   "cell_type": "code",
   "execution_count": null,
   "metadata": {
    "collapsed": true
   },
   "outputs": [],
   "source": [
    "eps = np.squeeze(b6.KLeps.values)*BathyMaskNaN"
   ]
  },
  {
   "cell_type": "code",
   "execution_count": null,
   "metadata": {},
   "outputs": [],
   "source": [
    "fig,ax = plt.subplots(nrows=1,ncols=1,figsize=(8,5))\n",
    "h = ax.pcolormesh(grid.Y/1e3,grid.Z,np.ma.masked_where(np.squeeze(grid.HFacC)<1,np.log10(eps[150,:,:])),vmin=-12,vmax=-5,cmap='Spectral_r')\n",
    "plt.colorbar(h,ax=ax,label=r'log10($\\epsilon$) [m$^2$/s$^{-3}$]')\n",
    "CenterPlot()\n",
    "ax.set(xlabel='distance [km]',ylabel='z [m]',title='snapshot of turbulent dissipation');"
   ]
  },
  {
   "cell_type": "code",
   "execution_count": null,
   "metadata": {
    "collapsed": true
   },
   "outputs": [],
   "source": [
    "epsDepthIntegral = np.nansum(rho0*hfacC*eps*drFC,axis=1)"
   ]
  },
  {
   "cell_type": "code",
   "execution_count": null,
   "metadata": {},
   "outputs": [],
   "source": [
    "fig,ax = plt.subplots(nrows=1,ncols=1,figsize=(8,5))\n",
    "h = ax.contourf(dist,time,np.log10(epsDepthIntegral),np.linspace(-7,1,33),cmap='Spectral_r',extend='both')\n",
    "CenterPlot(75,ax)\n",
    "plt.colorbar(h,ax=ax,label=r'$log_{10}(\\rho_0 \\int \\epsilon dz)$ [W/m$^2$]');\n",
    "ax.set(ylabel='time [h]',xlabel='distance [km]',title='depth integrated turbulent dissipation');"
   ]
  },
  {
   "cell_type": "markdown",
   "metadata": {},
   "source": [
    "## Baroclinic energy equation\n",
    "Terms of the baroclinic energy equations. Different to Kang (2011) we'll evaluate the energy equation not only depth-integrated, but also integrated across the ridge in the horizontal. Thus, the equation will be expressed in units of W/m. We are still integrating over the whole water column, thus volume integrals over flux divergences that are converted to surface integrals over the fluxes using the divergence theorem will be expressed as the difference between the flux at coordinates $y_1$ and $y_2$."
   ]
  },
  {
   "cell_type": "code",
   "execution_count": null,
   "metadata": {
    "collapsed": true
   },
   "outputs": [],
   "source": [
    "AdvectiveTimeScale = 0.2*time[-1]*3600/1e3"
   ]
  },
  {
   "cell_type": "code",
   "execution_count": null,
   "metadata": {
    "collapsed": true
   },
   "outputs": [],
   "source": [
    "# integrate over this distance in km left and right of the ridge\n",
    "dy = 25\n",
    "yi = np.squeeze(np.where( (dist>my-dy) & (dist<my+dy) ))"
   ]
  },
  {
   "cell_type": "markdown",
   "metadata": {},
   "source": [
    "The advective lateral scale for the whole model run is about {{round(AdvectiveTimeScale)}}km. Well start out with integrating {{round(dy)}}km on each side of the ridge."
   ]
  },
  {
   "cell_type": "markdown",
   "metadata": {},
   "source": [
    "### Unsteadiness\n",
    "$$ \\frac{\\partial}{\\partial t} \\left( \\iint E^\\prime_k\\, dy\\, dz + \\iint E^\\prime_p\\, dy\\, dz \\right) $$"
   ]
  },
  {
   "cell_type": "code",
   "execution_count": null,
   "metadata": {
    "collapsed": true
   },
   "outputs": [],
   "source": [
    "EkpVI = np.sum(EkpDepthIntegral[:,yi]*dyF[yi],axis=1) # VI stands for volume integral\n",
    "EppVI = np.sum(EppDepthIntegral[:,yi]*dyF[yi],axis=1) # VI stands for volume integral\n",
    "# time derivative\n",
    "dEkpVIdt = np.gradient(EkpVI,(time*3600))\n",
    "dEppVIdt = np.gradient(EppVI,(time*3600))\n",
    "BC_Unsteadiness = dEkpVIdt+dEppVIdt"
   ]
  },
  {
   "cell_type": "code",
   "execution_count": null,
   "metadata": {},
   "outputs": [],
   "source": [
    "fig,ax = plt.subplots(nrows=1,ncols=2,figsize=(10,4))\n",
    "# fig,ax = gvf.newfig()\n",
    "ax[0].plot(time,dEkpVIdt/1e3,label='E$^\\prime_k$')\n",
    "ax[0].plot(time,dEppVIdt/1e3,label='E$^\\prime_p$')\n",
    "ax[0].plot(time,BC_Unsteadiness/1e3,label='E$^\\prime$')\n",
    "ax[0].set(xlabel='time [h]',ylabel='$\\partial E^\\prime / \\partial t$ [kW/m]',title='unsteadiness')\n",
    "ax[0].legend()\n",
    "ax[1].plot(time,(EkpVI+EppVI)/1e9)\n",
    "ax[1].set(ylabel='E$^\\prime$ [GW/m]',xlabel='time [h]',title='baroclinic energy accumulation')\n",
    "plt.tight_layout()"
   ]
  },
  {
   "cell_type": "code",
   "execution_count": null,
   "metadata": {
    "collapsed": true
   },
   "outputs": [],
   "source": [
    "PotentialBarotropicKineticenergyAccumulation = 1/2*rho0*0.2**2*3000*time[-1]*3600/1e9"
   ]
  },
  {
   "cell_type": "markdown",
   "metadata": {},
   "source": [
    "After initial spinup, baroclinic energy increases at a rate of about 10 kW/m within the control volume. A total of more than 1 GW/m accumulates in the baroclinic flow- and pressure field over the time of the model run. For comparison, the total energy that could be extracted over this time from barotropic flow of 0.2 m/s over 3000 m depth would be close to {{round(PotentialBarotropicKineticenergyAccumulation)}} GW."
   ]
  },
  {
   "cell_type": "markdown",
   "metadata": {},
   "source": [
    "### BT/BC Conversion\n",
    "Hydrostatic and non-hydrostatic terms:\n",
    "$$\\iint \\rho^\\prime g W\\, dz\\, dy - \\iint \\frac{\\partial q}{\\partial z} W\\, dz\\, dy + \\int A_{h0}\\, dy$$\n",
    "Energy is converted to baroclinic motion / potential energy when the whole term is positive. $A_{h0}$\n",
    "denotes the contribution of unclosed advection terms:\n",
    "$$A_{h0} = \\rho_0 H V A_y$$\n",
    "with\n",
    "$$A_y =\\frac{1}{H} \\nabla_H \\left( \\int v^\\prime v \\,dz \\right)$$\n",
    "<!-- such that $$\\int A_{h0} dy =\\Delta_y \\left( \\rho_0 V \\int  v^\\prime v\\, dz \\right)$$\n",
    "where $\\Delta$ denotes the the difference between left and right, essentially this is the volume integral over the flux divergence transformed to the area integral over the flux itself using the divergence theorem. -->"
   ]
  },
  {
   "cell_type": "code",
   "execution_count": null,
   "metadata": {
    "collapsed": true
   },
   "outputs": [],
   "source": [
    "BTBCConversionVI = np.sum(BTBCConversionDepthIntegral[:,yi]*dyF[yi],axis=1)\n",
    "nhBTBCConversionVI = np.sum(nhBTBCConversionDepthIntegral[:,yi]*dyF[yi],axis=1)\n",
    "\n",
    "tmp = np.nansum(v*VC*hfacC*drFC,axis=1)\n",
    "Ay = np.gradient(tmp,grid.Y,axis=1)\n",
    "Ah0 = rho0*V*Ay\n",
    "Ah0YIntegral = np.sum(Ah0[:,yi]*dyF[yi],axis=1)\n",
    "\n",
    "BC_Conversion = BTBCConversionVI-nhBTBCConversionVI+Ah0YIntegral"
   ]
  },
  {
   "cell_type": "code",
   "execution_count": null,
   "metadata": {},
   "outputs": [],
   "source": [
    "fig,ax = plt.subplots(nrows=1,ncols=1,figsize=(8,5))\n",
    "ax.plot(time,BTBCConversionVI/1e3,label='BTBC')\n",
    "ax.plot(time,nhBTBCConversionVI/1e3,label='nhBTBC')\n",
    "ax.plot(time,(Ah0YIntegral)/1e3,label=r'A$_{h0}$')\n",
    "ax.plot(time,(BC_Conversion)/1e3,label='all')\n",
    "ax.set(ylabel='BT/BC Conversion [kW/m]',xlabel='time [h]');\n",
    "ax.legend();"
   ]
  },
  {
   "cell_type": "markdown",
   "metadata": {},
   "source": [
    "### Flux-Advection\n",
    "\n",
    "$$\\int \\nabla_H \\left(\\int v E^\\prime_k dz + \\int v E^\\prime_{hk0} dz + \\int v E^\\prime_p dz  \\right) dy$$\n",
    "\n",
    "$$ = \\Delta_y \\left( \\int v E^\\prime_k dz \\right) + \\Delta_y \\left( \\int v E^\\prime_{hk0}dz \\right) + \\Delta_y \\left( \\int v E^\\prime_p dz \\right) $$\n",
    "where $\\Delta$ denotes the the difference between left and right, essentially this is the volume integral over the flux divergence transformed to the area integral over the flux itself using the divergence theorem."
   ]
  },
  {
   "cell_type": "code",
   "execution_count": null,
   "metadata": {
    "collapsed": true
   },
   "outputs": [],
   "source": [
    "EkpFluxDepthIntegral = np.nansum(VC*Ekp*drFC*hfacC,axis=1)\n",
    "EppFluxDepthIntegral = np.nansum(VC*Epp*drFC*hfacC,axis=1)\n",
    "Ehk0pFluxDepthIntegral = np.nansum(VC*Ehk0p*drFC*hfacC,axis=1)\n",
    "EkpFluxDepthIntegralDelta = EkpFluxDepthIntegral[:,yi[0]]-EkpFluxDepthIntegral[:,yi[-1]]\n",
    "EppFluxDepthIntegralDelta = EppFluxDepthIntegral[:,yi[0]]-EppFluxDepthIntegral[:,yi[-1]]\n",
    "Ehk0pFluxDepthIntegralDelta = Ehk0pFluxDepthIntegral[:,yi[0]]-Ehk0pFluxDepthIntegral[:,yi[-1]]\n",
    "BC_EnergyFluxDivergence = EkpFluxDepthIntegralDelta+Ehk0pFluxDepthIntegralDelta+Ehk0pFluxDepthIntegralDelta"
   ]
  },
  {
   "cell_type": "code",
   "execution_count": null,
   "metadata": {},
   "outputs": [],
   "source": [
    "fig,ax = plt.subplots(nrows=1,ncols=1,figsize=(8,5))\n",
    "ax.plot(time,EkpFluxDepthIntegralDelta/1e3,label='E$^\\prime_k$ flux divergence')\n",
    "ax.plot(time,EppFluxDepthIntegralDelta/1e3,label='E$^\\prime_p$ flux divergence')\n",
    "ax.plot(time,Ehk0pFluxDepthIntegralDelta/1e3,label='cross terms')\n",
    "ax.plot(time,(EkpFluxDepthIntegralDelta+Ehk0pFluxDepthIntegralDelta+Ehk0pFluxDepthIntegralDelta)/1e3,label='total energy flux divergence')\n",
    "ax.set(ylabel='Baroclinic Energy-Flux Divergence [kW/m]')\n",
    "ax.legend();"
   ]
  },
  {
   "cell_type": "markdown",
   "metadata": {},
   "source": [
    "### Flux-Pressure\n",
    "\n",
    "$$ \\Delta_y \\left(\\int v^\\prime p^\\prime \\,dz \\right) + \\Delta_y \\left( \\int v^\\prime q\\, dz \\right)$$"
   ]
  },
  {
   "cell_type": "code",
   "execution_count": null,
   "metadata": {
    "collapsed": true
   },
   "outputs": [],
   "source": [
    "BCPressureFluxDepthIntegral = np.nansum(v*hfacC*PP*drFC,axis=1)\n",
    "nhBCPressureFluxDepthIntegral = np.nansum(v*hfacC*q*drFC,axis=1)"
   ]
  },
  {
   "cell_type": "code",
   "execution_count": null,
   "metadata": {},
   "outputs": [],
   "source": [
    "fig,ax = plt.subplots(nrows=1,ncols=2,figsize=(12,5))\n",
    "h = ax[0].pcolormesh(dist,time,BCPressureFluxDepthIntegral,vmin=-2e4,vmax=2e4,cmap='RdBu_r')\n",
    "plt.colorbar(h,ax=ax[0],extend='both')\n",
    "ax[0].set(xlabel='distance [km]',ylabel='time [h]',title='baroclinic horizontal pressure flux')\n",
    "CenterPlot(50,ax=ax[0])\n",
    "h = ax[1].pcolormesh(dist,time,nhBCPressureFluxDepthIntegral,vmin=-2e4,vmax=2e4,cmap='RdBu_r')\n",
    "plt.colorbar(h,ax=ax[1],extend='both')\n",
    "ax[1].set(xlabel='distance [km]',ylabel='time [h]',title='bc horiz. non-hydrostatic pressure flux')\n",
    "CenterPlot(50,ax=ax[1])"
   ]
  },
  {
   "cell_type": "code",
   "execution_count": null,
   "metadata": {
    "collapsed": true
   },
   "outputs": [],
   "source": [
    "BCPressureFluxDepthIntegralDelta = BCPressureFluxDepthIntegral[:,yi[-1]]-BCPressureFluxDepthIntegral[:,yi[0]]\n",
    "nhBCPressureFluxDepthIntegralDelta = nhBCPressureFluxDepthIntegral[:,yi[-1]]-nhBCPressureFluxDepthIntegral[:,yi[0]]"
   ]
  },
  {
   "cell_type": "code",
   "execution_count": null,
   "metadata": {},
   "outputs": [],
   "source": [
    "fig,ax = plt.subplots(nrows=1,ncols=1,figsize=(8,5))\n",
    "ax.plot(time,BCPressureFluxDepthIntegralDelta/1e3,label='BC pressure flux divergence')\n",
    "ax.plot(time,nhBCPressureFluxDepthIntegralDelta/1e3,label='nh BC pressure flux divergence')\n",
    "ax.set(ylabel='Baroclinic Pressure-Flux Divergence [kW/m]',xlabel='time [h]',title='pressure work flux divergence')\n",
    "ax.legend();"
   ]
  },
  {
   "cell_type": "markdown",
   "metadata": {},
   "source": [
    "Vertical pressure work flux - this doesn't show up when integrting over the whole water column, but let's see if there is upward energy flux."
   ]
  },
  {
   "cell_type": "code",
   "execution_count": null,
   "metadata": {
    "collapsed": true
   },
   "outputs": [],
   "source": [
    "wppp = w*hfacC*PP\n",
    "BCVerticalPressureFluxDepthIntegral = np.nansum(w*hfacC*PP*drFC,axis=1)\n",
    "nhBCVerticalPressureFluxDepthIntegral = np.nansum(w*hfacC*q*drFC,axis=1)"
   ]
  },
  {
   "cell_type": "code",
   "execution_count": null,
   "metadata": {},
   "outputs": [],
   "source": [
    "wpppHorizontalIntegral = np.nansum(wppp[:,:,100:-100]*dyF[100:-100],axis=2)\n",
    "fig,ax = plt.subplots(nrows=1,ncols=1,figsize=(8,5))\n",
    "h = ax.pcolormesh(time,grid.Z,wpppHorizontalIntegral.T/1e3,vmin=-30,vmax=30,cmap='RdBu_r')\n",
    "plt.colorbar(h,ax=ax,label=r'$\\int w^\\prime p^\\prime \\, dy$ [kW/m]',extend='both')\n",
    "ax.set(xlabel='time [h]',ylabel='z [m]');"
   ]
  },
  {
   "cell_type": "code",
   "execution_count": null,
   "metadata": {},
   "outputs": [],
   "source": [
    "fig,ax = plt.subplots(nrows=1,ncols=2,figsize=(12,5))\n",
    "h = ax[0].pcolormesh(dist,time,BCVerticalPressureFluxDepthIntegral,vmin=-2e4,vmax=2e4,cmap='RdBu_r')\n",
    "plt.colorbar(h,ax=ax[0],extend='both')\n",
    "ax[0].set(xlabel='distance [km]',ylabel='time [h]',title='baroclinic vertical pressure flux')\n",
    "CenterPlot(50,ax=ax[0])\n",
    "h = ax[1].pcolormesh(dist,time,nhBCVerticalPressureFluxDepthIntegral,vmin=-2e4,vmax=2e4,cmap='RdBu_r')\n",
    "plt.colorbar(h,ax=ax[1],extend='both')\n",
    "ax[1].set(xlabel='distance [km]',ylabel='time [h]',title='bc vert. non-hydrostatic pressure flux')\n",
    "CenterPlot(50,ax=ax[1])"
   ]
  },
  {
   "cell_type": "markdown",
   "metadata": {},
   "source": [
    "### Dissipation\n",
    "\n",
    "$$\\iint \\rho_0 \\epsilon \\,dz\\, dy $$"
   ]
  },
  {
   "cell_type": "code",
   "execution_count": null,
   "metadata": {
    "collapsed": true
   },
   "outputs": [],
   "source": [
    "epsVI = np.nansum(epsDepthIntegral[:,yi]*dyF[yi],axis=1)"
   ]
  },
  {
   "cell_type": "code",
   "execution_count": null,
   "metadata": {},
   "outputs": [],
   "source": [
    "fig,ax = plt.subplots(nrows=1,ncols=1,figsize=(8,5))\n",
    "ax.plot(time,epsVI/1e3)\n",
    "ax.set(ylabel=r'$\\iint \\rho_0 \\epsilon \\,dz\\, dy$ [kW/m]',xlabel='time [h]',title='integrated turbulent dissipation');"
   ]
  },
  {
   "cell_type": "markdown",
   "metadata": {},
   "source": [
    "The above is the dissipation of turbulent kinetic energy as given by Jody's parametrization. How would the turbulent dissipation as calculated in Kang (2010) look like?. Here the horizontal baroclinic dissipation rate is given by\n",
    "$$\\epsilon^\\prime_h = \\rho_0 \\nu_H \\left( \\nabla_H v^\\prime \\cdot \\nabla_H v^\\prime \\right) + \\rho_0 \\nu_V \\left( \\frac{\\partial v^\\prime}{\\partial z} \\cdot \\frac{\\partial v^\\prime}{\\partial z} \\right)$$\n",
    "where the horizontal gradient operator reduces to $\\partial/\\partial y$ in the 2D case. The vertical baroclinic dissipation rate\n",
    "$$ \\epsilon^\\prime_V = \\rho_0 \\nu_H \\left( \\frac{\\partial w^\\prime}{\\partial y} \\cdot  \\frac{\\partial w^\\prime}{\\partial y} \\right) + \\rho_0 \\nu_V \\left( \\frac{\\partial w^\\prime}{\\partial z} \\cdot  \\frac{\\partial w^\\prime}{\\partial z}  \\right) $$"
   ]
  },
  {
   "cell_type": "code",
   "execution_count": null,
   "metadata": {
    "collapsed": true
   },
   "outputs": [],
   "source": [
    "dvdz = np.gradient(v,np.abs(grid.Z),axis=1)\n",
    "dvdy = np.gradient(v,grid.Y,axis=2)\n",
    "dwdz = np.gradient(WC,np.abs(grid.Z),axis=1)\n",
    "dwdy = np.gradient(WC,grid.Y,axis=2)"
   ]
  },
  {
   "cell_type": "code",
   "execution_count": null,
   "metadata": {
    "collapsed": true
   },
   "outputs": [],
   "source": [
    "epsph = rho0*nuh*dvdy*dvdy + rho0*nuv*dvdz*dvdz\n",
    "epspv = rho0*nuh*dwdy*dwdy + rho0*nuv*dwdz*dwdz"
   ]
  },
  {
   "cell_type": "markdown",
   "metadata": {},
   "source": [
    "Plot snapshots of $\\epsilon^\\prime_h$ and $\\epsilon^\\prime_v$"
   ]
  },
  {
   "cell_type": "code",
   "execution_count": null,
   "metadata": {},
   "outputs": [],
   "source": [
    "fig,ax = plt.subplots(nrows=1,ncols=2,figsize=(12,5))\n",
    "h = ax[0].contourf(dist,grid.Z,np.log10(epsph[-1,:,:]),np.linspace(-12,-6,15),cmap='Spectral_r',extend='both')\n",
    "plt.colorbar(h,ax=ax[0],label=r'$\\epsilon^\\prime_h$ [W/m$^3$]')\n",
    "CenterPlot(20,ax=ax[0])\n",
    "h = ax[1].contourf(dist,grid.Z,np.log10(epspv[-1,:,:]),np.linspace(-12,-6,15),cmap='Spectral_r',extend='both')\n",
    "CenterPlot(20,ax=ax[1])\n",
    "plt.colorbar(h,ax=ax[1],label=r'$\\epsilon^\\prime_v$ [W/m$^3$]');\n",
    "plt.tight_layout()"
   ]
  },
  {
   "cell_type": "markdown",
   "metadata": {},
   "source": [
    "Volume integral - note that here density is already included in the epsilon calculation, hence above figures show turbulent dissipation three orders of magnitude higher than when expressed in W/kg."
   ]
  },
  {
   "cell_type": "code",
   "execution_count": null,
   "metadata": {
    "collapsed": true
   },
   "outputs": [],
   "source": [
    "eps2DepthIntegral = np.nansum((epsph+epspv)*drFC*hfacC,axis=1)"
   ]
  },
  {
   "cell_type": "code",
   "execution_count": null,
   "metadata": {
    "collapsed": true
   },
   "outputs": [],
   "source": [
    "eps2VI = np.nansum(eps2DepthIntegral[:,yi]*dyF[yi],axis=1)"
   ]
  },
  {
   "cell_type": "code",
   "execution_count": null,
   "metadata": {},
   "outputs": [],
   "source": [
    "fig,ax = plt.subplots(nrows=1,ncols=1,figsize=(8,5))\n",
    "ax.plot(time,eps2VI)\n",
    "ax.set(ylabel=r'$\\iint (\\epsilon^\\prime_h + \\epsilon^\\prime_v) \\,dz\\, dy$ [W/m]',xlabel='time [h]',title='integrated baroclinic dissipation rate');"
   ]
  },
  {
   "cell_type": "markdown",
   "metadata": {},
   "source": [
    "### Bottom Drag\n",
    "We are using a quadratic bottom drag that shows up in the energy equation as\n",
    "$$ D^\\prime = \\rho_0 C_{d,B} \\lvert v(-d) \\rvert \\left( v^\\prime(-d) v(-d) + w^{\\prime 2}(-d)   \\right) $$ where $-d$ denotes values in the bottom cells. I'm not sure why this is $v^\\prime v$ and not $v^{\\prime2}$ in Kang (2010). Bottom Drag always extracts energy"
   ]
  },
  {
   "cell_type": "code",
   "execution_count": null,
   "metadata": {
    "collapsed": true
   },
   "outputs": [],
   "source": [
    "# find bottom cells\n",
    "tmp = hfacC\n",
    "BottomCells = np.zeros_like(grid.Y.values,dtype='int')\n",
    "for i, column in enumerate(tmp.T):\n",
    "    indices = np.argwhere(column>0)\n",
    "#     out.append(indices[-1])\n",
    "    BottomCells[i] = indices[-1]"
   ]
  },
  {
   "cell_type": "code",
   "execution_count": null,
   "metadata": {
    "collapsed": true
   },
   "outputs": [],
   "source": [
    "BottomDrag = np.zeros_like(eta)*np.nan\n",
    "for i, t in enumerate(time):\n",
    "    for j, d in enumerate(BottomCells):\n",
    "        # not sure how the Kang formulation ensures that this is always positive... putting abs around it...\n",
    "        BottomDrag[i,j] = np.abs(rho0*Cd*abs(VC[i,d,j])*(v[i,d,j]*VC[i,d,j]+WC[i,d,j]**2))"
   ]
  },
  {
   "cell_type": "code",
   "execution_count": null,
   "metadata": {},
   "outputs": [],
   "source": [
    "fig,ax = plt.subplots(nrows=1,ncols=1,figsize=(8,5))\n",
    "h = ax.contourf(dist,time,BottomDrag,np.linspace(0,0.1,41),cmap='YlOrBr',extend='max')\n",
    "plt.colorbar(h,ax=ax,label='$D^\\prime$ [W/m$^2$]')\n",
    "CenterPlot(25)\n",
    "ax.set(xlabel='distance [km]',ylabel='time [h]',title='bottom drag');"
   ]
  },
  {
   "cell_type": "code",
   "execution_count": null,
   "metadata": {
    "collapsed": true
   },
   "outputs": [],
   "source": [
    "BottomDragVI = np.nansum(BottomDrag*dyF,axis=1)"
   ]
  },
  {
   "cell_type": "code",
   "execution_count": null,
   "metadata": {},
   "outputs": [],
   "source": [
    "fig,ax = plt.subplots(nrows=1,ncols=1,figsize=(8,5))\n",
    "ax.plot(time,BottomDragVI/1e3)\n",
    "ax.set(ylabel=r'$\\int D^\\prime \\, dy$ [kW/m]',xlabel='time [h]',title='integrated bottom drag');"
   ]
  },
  {
   "cell_type": "markdown",
   "metadata": {},
   "source": [
    "### All Terms\n",
    "of the baroclinic energy equation, see [Kang (2010)](http://rci.rutgers.edu/~dk556/Kang_PhD_2010.pdf#page=102) p. 81. \n",
    "...except for diffusion of Energy fluxes."
   ]
  },
  {
   "cell_type": "code",
   "execution_count": null,
   "metadata": {
    "collapsed": true
   },
   "outputs": [],
   "source": [
    "BC_EnergyEquationLeft = (BC_Unsteadiness +\n",
    "                        BCPressureFluxDepthIntegralDelta +\n",
    "                        nhBCPressureFluxDepthIntegralDelta +\n",
    "                        BC_EnergyFluxDivergence)\n",
    "BC_EnergyEquationRight = BC_Conversion - epsVI-BottomDragVI"
   ]
  },
  {
   "cell_type": "code",
   "execution_count": null,
   "metadata": {},
   "outputs": [],
   "source": [
    "fig,ax = plt.subplots(nrows=1,ncols=1,figsize=(12,8))\n",
    "\n",
    "cmaps = mpl.cm.get_cmap('Spectral')\n",
    "b1 = cmaps(0.95)\n",
    "b2 = cmaps(0.85)\n",
    "b3 = cmaps(0.75)\n",
    "b4 = cmaps(0.65)\n",
    "r1 = cmaps(0.35)\n",
    "r2 = cmaps(0.25)\n",
    "r3 = cmaps(0.15)\n",
    "r4 = cmaps(0.05)\n",
    "\n",
    "ax.plot(time,BC_EnergyEquationLeft/1e3,color=b1,label='LHS:',linewidth=3)\n",
    "ax.plot(time,BC_Unsteadiness/1e3,color=b2,label='unsteadiness')\n",
    "ax.plot(time,(BCPressureFluxDepthIntegralDelta+nhBCPressureFluxDepthIntegralDelta)/1e3,color=b3,label='+ pressure work flux divergence')\n",
    "ax.plot(time,BC_EnergyFluxDivergence/1e3,color=b4,label='+ energy flux divergence')\n",
    "\n",
    "ax.plot(time,BC_EnergyEquationRight/1e3,color=r1,label='RHS:',linewidth=3)\n",
    "ax.plot(time,BC_Conversion/1e3,color=r2,label='conversion')\n",
    "ax.plot(time,-epsVI/1e3,color=r3,label='- dissipation')\n",
    "ax.plot(time,-BottomDragVI/1e3,color=r3,label='- bottom drag')\n",
    "\n",
    "ax.legend()\n",
    "ax.grid()\n",
    "ax.set(ylabel='[kW/m]',xlabel='time [h]',title='baroclinic energy equation integrated across ridge');"
   ]
  },
  {
   "cell_type": "code",
   "execution_count": null,
   "metadata": {},
   "outputs": [],
   "source": [
    "fig,ax = plt.subplots(nrows=1,ncols=1,figsize=(12,8))\n",
    "\n",
    "ax.plot(time,BC_Conversion/1e3,color='k',label='conversion')\n",
    "\n",
    "RHS = (BCPressureFluxDepthIntegralDelta+nhBCPressureFluxDepthIntegralDelta+\n",
    "       BC_EnergyFluxDivergence + epsVI + BottomDragVI+BC_Unsteadiness)\n",
    "\n",
    "ax.plot(time,RHS/1e3,'k--',label='dE$^\\prime$/dt + flux divergence + dissipation + drag')\n",
    "ax.plot(time,BC_Unsteadiness/1e3,label='dE$^\\prime$/dt')\n",
    "ax.plot(time,(BCPressureFluxDepthIntegralDelta+nhBCPressureFluxDepthIntegralDelta)/1e3,label='pressure flux')\n",
    "ax.plot(time,BC_EnergyFluxDivergence/1e3,label='energy flux')\n",
    "ax.plot(time,epsVI/1e3,label='dissipation')\n",
    "ax.plot(time,BottomDragVI/1e3,label='drag')\n",
    "\n",
    "ax.legend()\n",
    "ax.grid()\n",
    "ax.set(ylabel='[kW/m]',xlabel='time [h]',title='baroclinic energy equation integrated across ridge');"
   ]
  },
  {
   "cell_type": "code",
   "execution_count": null,
   "metadata": {
    "collapsed": true
   },
   "outputs": [],
   "source": []
  },
  {
   "cell_type": "code",
   "execution_count": null,
   "metadata": {
    "collapsed": true
   },
   "outputs": [],
   "source": []
  },
  {
   "cell_type": "markdown",
   "metadata": {},
   "source": [
    "## Total Energy equation (work in progress)"
   ]
  },
  {
   "cell_type": "markdown",
   "metadata": {},
   "source": [
    "The depth-integrated total energy equation describes the sum of time derivative and fluxes and equals this to dissipation and drag. Units are W/m$^2$."
   ]
  },
  {
   "cell_type": "markdown",
   "metadata": {},
   "source": [
    "### Advective Flux Divergence\n",
    "$$\\nabla_H \\cdot (\\overline{\\mathbf{u}_H E_k} + \\overline{\\mathbf{u}_H E'_p})$$"
   ]
  },
  {
   "cell_type": "code",
   "execution_count": null,
   "metadata": {
    "collapsed": true
   },
   "outputs": [],
   "source": [
    "EkFlux = VC*Ek\n",
    "# note: np.gradient second argument is distance if scalar but coordinates if vector.\n",
    "DivEkFlux = np.gradient(np.nansum(EkFlux*drFC,axis=1),grid.Y,axis=1)\n",
    "EppFlux = VC*Epp\n",
    "DivEppFlux = np.gradient(np.nansum(EppFlux*drFC,axis=1),grid.Y,axis=1)\n",
    "DivAdvFlux = np.gradient(np.nansum(EppFlux*drFC,axis=1)+np.nansum(EkFlux*drFC,axis=1),grid.Y,axis=1)"
   ]
  },
  {
   "cell_type": "markdown",
   "metadata": {},
   "source": [
    "Plot time evolution of advective flux divergences."
   ]
  },
  {
   "cell_type": "code",
   "execution_count": null,
   "metadata": {},
   "outputs": [],
   "source": [
    "fig,ax = plt.subplots(nrows=1,ncols=3,figsize=(12,5))\n",
    "h = ax[0].contourf(dist,time,DivEkFlux,np.linspace(-100,100,41),cmap='RdBu_r')\n",
    "plt.colorbar(h,ax=ax[0])\n",
    "CenterPlot(25,ax[0])\n",
    "h = ax[1].contourf(dist,time,DivEppFlux,np.linspace(-100,100,41),cmap='RdBu_r')\n",
    "plt.colorbar(h,ax=ax[1])\n",
    "CenterPlot(25,ax[1])\n",
    "h = ax[2].contourf(dist,time,DivAdvFlux,np.linspace(-100,100,41),cmap='RdBu_r')\n",
    "plt.colorbar(h,ax=ax[2])\n",
    "CenterPlot(25,ax[2])"
   ]
  },
  {
   "cell_type": "markdown",
   "metadata": {},
   "source": [
    "### Pressure Flux Divergence\n",
    "$$\\nabla_H \\cdot ( \\mathbf{U}_H H \\rho_0 g \\eta +   \\overline{\\mathbf{u}_H p'} + \\overline{\\mathbf{u}_H q})$$\n",
    "\n",
    "The term related to the free surface anomaly becomes really big. It won't show up in the baroclinic energy equations anymore though, so shouldn't bother us too much."
   ]
  },
  {
   "cell_type": "code",
   "execution_count": null,
   "metadata": {
    "collapsed": true
   },
   "outputs": [],
   "source": [
    "DivBaroPressureFlux = np.gradient(V*H*rho0*gravity*eta,grid.Y,axis=1)\n",
    "DivPressureFlux = np.gradient(np.nansum(VC*PP*drFC,axis=1)+eta*VC[:,0,:]*PP[:,0,:],grid.Y,axis=1)\n",
    "DivnhPressureFlux = np.gradient(np.nansum(VC*q*drFC,axis=1)+eta*VC[:,0,:]*q[:,0,:],grid.Y,axis=1)"
   ]
  },
  {
   "cell_type": "code",
   "execution_count": null,
   "metadata": {},
   "outputs": [],
   "source": [
    "# plt.plot(dist,DivBaroPressureFlux[-1,:])\n",
    "plt.plot(dist,DivPressureFlux[-100,:])\n",
    "plt.plot(dist,DivnhPressureFlux[-100,:]);\n",
    "CenterPlot(50)"
   ]
  },
  {
   "cell_type": "code",
   "execution_count": null,
   "metadata": {},
   "outputs": [],
   "source": [
    "plt.plot(dist,eta[-10,:])\n",
    "CenterPlot(50)"
   ]
  },
  {
   "cell_type": "code",
   "execution_count": null,
   "metadata": {},
   "outputs": [],
   "source": [
    "plt.pcolormesh(dist,time,eta,cmap='RdBu_r',vmin=-0.2,vmax=0.2)\n",
    "CenterPlot(20)\n"
   ]
  },
  {
   "cell_type": "code",
   "execution_count": null,
   "metadata": {},
   "outputs": [],
   "source": [
    "plt.pcolormesh(V)\n",
    "plt.colorbar"
   ]
  },
  {
   "cell_type": "markdown",
   "metadata": {},
   "source": [
    "### Diffusive Flux Divergence\n",
    "$$ - \\overline{ \\nabla_H \\cdot (\\nu_H \\nabla_H E_k) }  -  \\overline{ \\nabla_H \\cdot (\\kappa_H g \\zeta \\nabla_H \\rho') } $$\n",
    "with the horizontal eddy viscosity (`viscAh`) $\\nu_H$ [m$^2$/s] and horizontal diffusivity of heat (and thereby mass for the linear equation of state, `diffKhT`) $\\kappa_H$. "
   ]
  },
  {
   "cell_type": "code",
   "execution_count": null,
   "metadata": {
    "collapsed": true
   },
   "outputs": [],
   "source": [
    "DivDiffEk = -np.nansum(np.gradient((nuh*np.gradient(Ek,grid.Y,axis=2)),grid.Y,axis=2)*drFC,axis=1)\n",
    "# DivDiffEp = "
   ]
  },
  {
   "cell_type": "code",
   "execution_count": null,
   "metadata": {},
   "outputs": [],
   "source": [
    "plt.contourf(dist,time,DivDiffEk,np.linspace(-5e-4,5e-4,31),cmap='RdBu_r')\n",
    "plt.colorbar()\n",
    "CenterPlot(25)"
   ]
  },
  {
   "cell_type": "markdown",
   "metadata": {},
   "source": [
    "Diffusion is tiny compared to other terms. This may be right though, in [Kang and Fringer (2012)](http://journals.ametsoc.org/doi/abs/10.1175/JPO-D-11-039.1), diffusion contributes only 0.002% to the baroclinic energy flux divergence within a subdomain of their model."
   ]
  }
 ],
 "metadata": {
  "kernelspec": {
   "display_name": "Python 3",
   "language": "python",
   "name": "python3"
  },
  "language_info": {
   "codemirror_mode": {
    "name": "ipython",
    "version": 3
   },
   "file_extension": ".py",
   "mimetype": "text/x-python",
   "name": "python",
   "nbconvert_exporter": "python",
   "pygments_lexer": "ipython3",
   "version": "3.6.1"
  },
  "toc": {
   "colors": {
    "hover_highlight": "#DAA520",
    "navigate_num": "#000000",
    "navigate_text": "#333333",
    "running_highlight": "#FF0000",
    "selected_highlight": "#FFD700",
    "sidebar_border": "#EEEEEE",
    "wrapper_background": "#FFFFFF"
   },
   "moveMenuLeft": true,
   "nav_menu": {
    "height": "336px",
    "width": "252px"
   },
   "navigate_menu": true,
   "number_sections": false,
   "sideBar": true,
   "threshold": 4,
   "toc_cell": false,
   "toc_position": {
    "height": "1183px",
    "left": "0px",
    "right": "939px",
    "top": "106px",
    "width": "207px"
   },
   "toc_section_display": "block",
   "toc_window_display": true,
   "widenNotebook": false
  }
 },
 "nbformat": 4,
 "nbformat_minor": 2
}
