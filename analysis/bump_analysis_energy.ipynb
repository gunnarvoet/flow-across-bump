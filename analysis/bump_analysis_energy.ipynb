{
 "cells": [
  {
   "cell_type": "markdown",
   "metadata": {
    "deletable": true,
    "editable": true
   },
   "source": [
    "# Flow Across Bump - Energetics"
   ]
  },
  {
   "cell_type": "code",
   "execution_count": 1,
   "metadata": {
    "collapsed": true,
    "deletable": true,
    "editable": true
   },
   "outputs": [],
   "source": [
    "# %load /Users/gunnar/Projects/python/standard_imports.py\n",
    "%matplotlib inline\n",
    "import scipy as sp\n",
    "import matplotlib.pyplot as plt\n",
    "import matplotlib as mpl\n",
    "import numpy as np\n",
    "import xarray as xr\n",
    "import gsw\n",
    "import cmocean\n",
    "\n",
    "# import own modules (install from https://github.com/gunnarvoet/pythonlib))\n",
    "import gvpy.gvimport as gvi\n",
    "import gvpy.figure as gvf\n",
    "import gvpy.misc as gv\n",
    "import gvpy.ocean as gvo\n",
    "import spfunctions.spfunctions as spf\n",
    "\n",
    "# Automatically reload modules. Use this for modules that will be modified while\n",
    "# editing this notebook.\n",
    "# Option 1 means only reload modules given in aimport.\n",
    "# Option 2 means reload all except for those in aimport\n",
    "# Running %aimport by itself will show what it is doing.\n",
    "%reload_ext autoreload\n",
    "%autoreload 1\n",
    "%aimport spfunctions\n",
    "%aimport gvpy\n",
    "%aimport gvpy.misc\n",
    "%aimport gvpy.ocean\n",
    "%aimport gvpy.figure\n",
    "%aimport gvpy.gvimport\n",
    "\n",
    "import warnings\n",
    "warnings.filterwarnings('ignore')"
   ]
  },
  {
   "cell_type": "markdown",
   "metadata": {
    "deletable": true,
    "editable": true
   },
   "source": [
    "## Read model data"
   ]
  },
  {
   "cell_type": "code",
   "execution_count": 2,
   "metadata": {
    "collapsed": false,
    "deletable": true,
    "editable": true
   },
   "outputs": [],
   "source": [
    "DataDir = '/Volumes/svalbard/mitgcm/bump/B6/run/allmnc/'\n",
    "# DataDir = '/Users/gunnar/Projects/model/bump_data/B6/allmnc/'\n",
    "\n",
    "# read grid parameters, diagnostics output and state variables\n",
    "b6 = xr.open_dataset(DataDir+'diag1.glob.nc')\n",
    "b6s = xr.open_dataset(DataDir+'state.glob.nc')\n",
    "grid = xr.open_dataset(DataDir+'grid.glob.nc')\n",
    "# load additional diagnostics\n",
    "b62 = xr.open_dataset(DataDir+'diag2.glob.nc')\n",
    "# |PHIBOT  |  1 |       |SM      M1|m^2/s^2         |Bottom Pressure Pot.(p/rho) Anomaly\n",
    "# |ETAN    |  1 |       |SM      M1|m               |Surface Height Anomaly"
   ]
  },
  {
   "cell_type": "code",
   "execution_count": 3,
   "metadata": {
    "collapsed": false,
    "deletable": true,
    "editable": true
   },
   "outputs": [],
   "source": [
    "fileName = '/Users/gunnar/Projects/model/flow-across-bump/B6/input/Tref'\n",
    "tref = np.fromfile(fileName)"
   ]
  },
  {
   "cell_type": "markdown",
   "metadata": {
    "deletable": true,
    "editable": true
   },
   "source": [
    "## Easier plotting of fields"
   ]
  },
  {
   "cell_type": "code",
   "execution_count": 11,
   "metadata": {
    "collapsed": false,
    "deletable": true,
    "editable": true
   },
   "outputs": [],
   "source": [
    "def CenterPlot(dy=50,ax=0):\n",
    "    if ax==0:\n",
    "        ax = plt.gca()\n",
    "    ax.set(xlim=my.values+(-dy,dy))"
   ]
  },
  {
   "cell_type": "code",
   "execution_count": 12,
   "metadata": {
    "collapsed": true,
    "deletable": true,
    "editable": true
   },
   "outputs": [],
   "source": [
    "def PlotField(F):\n",
    "    fig,ax = plt.subplots()\n",
    "    ax.pcolormesh(grid.Y/1e3,grid.Z,np.ma.masked_where(np.squeeze(grid.HFacC)<1,np.squeeze(F)))\n",
    "    CenterPlot()"
   ]
  },
  {
   "cell_type": "markdown",
   "metadata": {
    "deletable": true,
    "editable": true
   },
   "source": [
    "## Derive basic variables"
   ]
  },
  {
   "cell_type": "code",
   "execution_count": 13,
   "metadata": {
    "collapsed": false,
    "deletable": true,
    "editable": true
   },
   "outputs": [],
   "source": [
    "# center of domain in km\n",
    "my = grid.Y.mean()/1000\n",
    "# print(my)"
   ]
  },
  {
   "cell_type": "code",
   "execution_count": 25,
   "metadata": {
    "collapsed": false,
    "deletable": true,
    "editable": true
   },
   "outputs": [],
   "source": [
    "# Density\n",
    "rho0 = 9.998000000000000e02 # from STDOUT, e.g.: grep -A 1 'rho' STDOUT.0000\n",
    "gravity = 9.81\n",
    "talpha = 2.0e-4\n",
    "# convert reference temperature profile to matrix\n",
    "trefm = np.tile(tref,(2000,1))\n",
    "trefm = np.transpose(trefm)\n",
    "# calculate densities\n",
    "temp = np.squeeze(b6.THETA.values)\n",
    "rho = rho0*(1-talpha*(temp))\n",
    "rhopert = -rho0*talpha*(temp-trefm)\n",
    "rhoref = -rho0*talpha*trefm"
   ]
  },
  {
   "cell_type": "code",
   "execution_count": 15,
   "metadata": {
    "collapsed": true,
    "deletable": true,
    "editable": true
   },
   "outputs": [],
   "source": [
    "# Pressure\n",
    "phi_hyd = b6.PHIHYD\n",
    "phi_nh = b6s.phi_nh\n",
    "\n",
    "# interpolate phi_nh to the time vector of phi_hyd\n",
    "tmp = np.squeeze(phi_nh)\n",
    "phi_nh2 = (tmp[1:,:,:].values + tmp[:-1,:,:].values) / 2\n",
    "phi_hyd2 = np.squeeze(phi_hyd.values)\n",
    "\n",
    "# R coordinate of cell center units: m\n",
    "RC = np.tile(grid.RC,(2000,1))\n",
    "\n",
    "# pressure perturbation\n",
    "PP = phi_hyd2*rho0 + phi_nh2*rho0"
   ]
  },
  {
   "cell_type": "code",
   "execution_count": 16,
   "metadata": {
    "collapsed": true,
    "deletable": true,
    "editable": true
   },
   "outputs": [],
   "source": [
    "# Bathy Mask\n",
    "BathyMask = np.squeeze(np.copy(grid.HFacC.values))\n",
    "BathyMask[BathyMask<1] = 0\n",
    "BathyMaskNaN = BathyMask.copy()\n",
    "BathyMaskNaN[BathyMask<1] = np.nan\n",
    "\n",
    "BathyMaskF = np.squeeze(np.copy(grid.HFacS.values))\n",
    "BathyMaskF[BathyMaskF<1] = 0\n",
    "BathyMaskFNaN = BathyMaskF.copy()\n",
    "BathyMaskFNaN[BathyMaskF<1] = np.nan"
   ]
  },
  {
   "cell_type": "code",
   "execution_count": 17,
   "metadata": {
    "collapsed": true,
    "deletable": true,
    "editable": true
   },
   "outputs": [],
   "source": [
    "# Baroclinic pressure\n",
    "PPbt = np.tile(np.transpose(np.mean(PP*BathyMask,axis=1)),(100,1,1))\n",
    "PPbt = np.rollaxis(PPbt,2,0)\n",
    "PPbc = (PP-PPbt)*BathyMask"
   ]
  },
  {
   "cell_type": "code",
   "execution_count": 18,
   "metadata": {
    "collapsed": true,
    "deletable": true,
    "editable": true
   },
   "outputs": [],
   "source": [
    "phibot = b62.PHIBOT*rho0"
   ]
  },
  {
   "cell_type": "markdown",
   "metadata": {
    "deletable": true,
    "editable": true
   },
   "source": [
    "## Barotropic/Baroclinic Velocities\n",
    "The horizontal barotropic velocity $V$ is defined as\n",
    "$$V = \\frac{1}{H} \\int_{-d}{\\eta}\\, v\\, dz = \\frac{1}{H} \\overline{u}$$"
   ]
  },
  {
   "cell_type": "code",
   "execution_count": 19,
   "metadata": {
    "collapsed": false,
    "deletable": true,
    "editable": true
   },
   "outputs": [],
   "source": [
    "# barotropic horizontal velocity\n",
    "# Include the bottom cell as a fraction\n",
    "# Should also include the eta part at the surface (although omitting this\n",
    "# for now, the error should really be minor as H>>eta)\n",
    "\n",
    "# bring drF (cell height at faces) to matrix form\n",
    "drF = np.tile(grid.drF.values.T,(2001,1))\n",
    "drF = drF.T\n",
    "# calculate depth at the grid faces from drF and HFacS\n",
    "DepthS = np.sum(drF*np.squeeze(grid.HFacS.values),axis=0)\n",
    "V = np.sum(np.squeeze(b6.VVEL.values)*drF*np.squeeze(grid.HFacS.values),axis=1) / DepthS"
   ]
  },
  {
   "cell_type": "code",
   "execution_count": 20,
   "metadata": {
    "collapsed": true,
    "deletable": true,
    "editable": true
   },
   "outputs": [],
   "source": [
    "# Baroclinic horizontal velocity\n",
    "V2 = np.tile(V,(100,1,1))\n",
    "V3 = np.rollaxis(V2,0,2)\n",
    "v = np.squeeze(b6.VVEL.values)-V3\n",
    "v = v*BathyMaskFNaN"
   ]
  },
  {
   "cell_type": "code",
   "execution_count": 21,
   "metadata": {
    "collapsed": false,
    "deletable": true,
    "editable": true
   },
   "outputs": [],
   "source": [
    "# Barotropic vertical velocity\n",
    "drFC = np.tile(grid.drF.values.T,(2000,1))\n",
    "drFC = drFC.T\n",
    "# bring dyF to matrix form\n",
    "dyFC = np.tile(grid.dyF.values.T,(100,1))\n",
    "WF = np.squeeze(b6.WVEL)\n",
    "# interpolate to cell centers. there are no velocities defined at the bottom of the lowest cells. We'll simply repeat\n",
    "# the velocities from the cells above to end up with the right dimensions here.\n",
    "# np.dbstack() only works along the 3rd (last?) dimension, so we have to roll axes...\n",
    "WFr = np.rollaxis(WF.values,1,3)\n",
    "WF2 = np.dstack((WFr,WF[:,-1,:]))\n",
    "WF2 = np.rollaxis(WF2,2,1)\n",
    "WC = (WF2[:,1:,:]+WF2[:,:-1,:]) / 2\n",
    "# calculate depth at the grid faces from drFC and HFacC\n",
    "DepthC = np.sum(drFC*np.squeeze(grid.HFacC.values),axis=0)\n",
    "# calculate barotropic vertical velocity\n",
    "W = np.sum(np.squeeze(WC)*drFC*np.squeeze(grid.HFacC.values),axis=1) / DepthC"
   ]
  },
  {
   "cell_type": "code",
   "execution_count": 22,
   "metadata": {
    "collapsed": true,
    "deletable": true,
    "editable": true
   },
   "outputs": [],
   "source": [
    "# Baroclinic vertical velocity\n",
    "# we need to bring W to the same shape as the velocity matrix WC\n",
    "W2 = np.tile(W,(100,1,1))\n",
    "W3 = np.rollaxis(W2,0,2)\n",
    "\n",
    "w = np.squeeze(WC)-W3\n",
    "w = w*BathyMaskNaN"
   ]
  },
  {
   "cell_type": "markdown",
   "metadata": {
    "deletable": true,
    "editable": true
   },
   "source": [
    "## Energy"
   ]
  },
  {
   "cell_type": "markdown",
   "metadata": {
    "deletable": true,
    "editable": true
   },
   "source": [
    "### Kinetic Energy\n",
    "The kinetic energy per unit volume, in units of J/m$^3$, is defined as\n",
    "\n",
    "$$ E_k = \\frac{1}{2} \\rho_0 \\mathbf{u} \\cdot \\mathbf{u}$$\n",
    "$$ E_k = E_{hk0} + E'_k + E'_{hk0}$$\n",
    "\n",
    "where (for our 2D case with east-west velocities being close to zero):\n",
    "\n",
    "$$ E_{hk0} = \\frac{1}{2} \\rho_0 \\mathbf{U_H} \\cdot \\mathbf{U_H} = \\frac{1}{2} \\rho_0 V^2$$\n",
    "$$ E'_k = \\frac{1}{2} \\rho_0 (\\mathbf{u'_H} \\cdot \\mathbf{u'_H} +w^2) = \\frac{1}{2} \\rho_0 (v^2 + w^2)$$\n",
    "$$ E'_{hk0} = \\frac{1}{2} \\rho_0 \\mathbf{U} \\cdot \\mathbf{u'} = \\frac{1}{2} \\rho_0 V v'$$\n",
    "\n",
    "with the barotropic horizontal kinetic energy $E_{hk0}$, baroclinic kinetic energy $E'_k$ and the cross term $E'_{hk0}$. The depth-integrated kinetic energy is\n",
    "\n",
    "$$\\overline{E_k} = \\overline{E_{hk0}} + \\overline{E'_k} + \\overline{E'_{hk0}}$$\n",
    "$$\\overline{E_k} = H E_{hk0} + \\overline{E'_k} +0.$$"
   ]
  },
  {
   "cell_type": "code",
   "execution_count": 70,
   "metadata": {
    "collapsed": false,
    "deletable": true,
    "editable": true
   },
   "outputs": [],
   "source": [
    "# interpolate horizontal velocities from faces to center\n",
    "VF = np.squeeze(b6.VVEL.values)\n",
    "VallC = (VF[:,:,1:]+VF[:,:,:-1]) / 2\n",
    "# interpolate barotropic velocity\n",
    "VC = (V[:,1:]+V[:,:-1]) / 2\n",
    "# ... and bring to size of baroclinic velocities\n",
    "VCm = np.tile(VC,(100,1,1))\n",
    "VCm = np.rollaxis(VCm,0,2)\n",
    "# and baroclinic velocity\n",
    "vc = (v[:,:,1:]+v[:,:,:-1]) / 2"
   ]
  },
  {
   "cell_type": "code",
   "execution_count": 61,
   "metadata": {
    "collapsed": false,
    "deletable": true,
    "editable": true
   },
   "outputs": [],
   "source": [
    "# full kinetic Energy\n",
    "Ek = 1/2*rho0*(VallC**2 + WC**2)\n",
    "Ek = np.squeeze(Ek)*BathyMaskNaN"
   ]
  },
  {
   "cell_type": "code",
   "execution_count": 74,
   "metadata": {
    "collapsed": false
   },
   "outputs": [],
   "source": [
    "# barotropic horizontal kinetic energy\n",
    "Ehk0 = 0.5*rho0*VC**2\n",
    "# bring to matrix form for plotting\n",
    "Ehk0m = np.tile(Ehk0,(100,1,1))\n",
    "Ehk0m = np.rollaxis(Ehk0m,0,2)"
   ]
  },
  {
   "cell_type": "code",
   "execution_count": 46,
   "metadata": {
    "collapsed": true,
    "deletable": true,
    "editable": true
   },
   "outputs": [],
   "source": [
    "# baroclinic kinetic Energy\n",
    "Ekp = 0.5*rho0*(vc**2 + w**2)"
   ]
  },
  {
   "cell_type": "code",
   "execution_count": 72,
   "metadata": {
    "collapsed": true
   },
   "outputs": [],
   "source": [
    "# cross term\n",
    "Ehk0p = 0.5*rho0*VCm*vc"
   ]
  },
  {
   "cell_type": "markdown",
   "metadata": {},
   "source": [
    "Plot $E_k$, $E_{hk0}$, $E'_k$ and $E'_{hk0}$ for last time step"
   ]
  },
  {
   "cell_type": "code",
   "execution_count": 103,
   "metadata": {
    "collapsed": false,
    "deletable": true,
    "editable": true
   },
   "outputs": [
    {
     "data": {
      "image/png": "[encoded data removed]",
      "text/plain": [
       "<matplotlib.figure.Figure at 0x1246ea400>"
      ]
     },
     "metadata": {},
     "output_type": "display_data"
    }
   ],
   "source": [
    "fig,ax = plt.subplots(ncols=4,figsize=(12,4))\n",
    "\n",
    "TimeStep = -1\n",
    "MaxC = 250\n",
    "\n",
    "# all\n",
    "EkMasked = np.ma.masked_where(np.squeeze(grid.HFacC)<=0, np.squeeze(Ek[TimeStep,:,:]))\n",
    "h = ax[0].pcolormesh(grid.Y/1e3,grid.Z,EkMasked,cmap='Spectral_r',vmin=0,vmax=MaxC)\n",
    "CenterPlot(10,ax[0])\n",
    "plt.colorbar(h,extend='max',label='E$_k$ [J/m$^3$]',ax=ax[0]);\n",
    "\n",
    "# barotropic\n",
    "Ehk0Masked = np.ma.masked_where(np.squeeze(grid.HFacC)<=0, np.squeeze(Ehk0m[TimeStep,:,:]))\n",
    "h = ax[1].pcolormesh(grid.Y/1e3,grid.Z,Ehk0Masked,cmap='Spectral_r',vmin=0,vmax=MaxC)\n",
    "CenterPlot(10,ax[1])\n",
    "plt.colorbar(h,extend='max',label='E$_{hk0}$ [J/m$^3$]',ax=ax[1]);\n",
    "\n",
    "# baroclinic\n",
    "EkpMasked = np.ma.masked_where(np.squeeze(grid.HFacC)<=0, np.squeeze(Ekp[TimeStep,:,:]))\n",
    "h = ax[2].pcolormesh(grid.Y/1e3,grid.Z,EkpMasked,cmap='Spectral_r',vmin=0,vmax=MaxC)\n",
    "# ax[0].contour(grid.Y/1e3,grid.Z,Ekpma,levels=[100],colors='k')\n",
    "# plt.contour(grid.Y/1e3,grid.Z,Ekinma,levels=[2, 300],colors='k')\n",
    "CenterPlot(10,ax[2])\n",
    "plt.colorbar(h,extend='max',label='E''$_k$ [J/m$^3$]',ax=ax[2]);\n",
    "\n",
    "# cross-terms\n",
    "Ehk0pMasked = np.ma.masked_where(np.squeeze(grid.HFacC)<=0, np.squeeze(Ehk0p[TimeStep,:,:]))\n",
    "h = ax[3].pcolormesh(grid.Y/1e3,grid.Z,Ehk0pMasked,cmap='Spectral_r',vmin=0,vmax=MaxC)\n",
    "CenterPlot(10,ax[3])\n",
    "plt.colorbar(h,extend='max',label='E$_{hk0}$ [J/m$^3$]',ax=ax[3]);\n",
    "\n",
    "\n",
    "plt.tight_layout()"
   ]
  },
  {
   "cell_type": "markdown",
   "metadata": {
    "deletable": true,
    "editable": true
   },
   "source": [
    "Depth-integrated kinetic energy"
   ]
  },
  {
   "cell_type": "code",
   "execution_count": null,
   "metadata": {
    "collapsed": false,
    "deletable": true,
    "editable": true
   },
   "outputs": [],
   "source": [
    "drFm = np.tile(grid.drF.values,(2000,1))\n",
    "drFm = drFm.T\n",
    "drFm.shape"
   ]
  },
  {
   "cell_type": "code",
   "execution_count": null,
   "metadata": {
    "collapsed": false,
    "deletable": true,
    "editable": true
   },
   "outputs": [],
   "source": [
    "Ekind = np.nansum(Ekin*drFm,axis=1)\n",
    "Ekinbcd = np.nansum(Ekinbc*drFm,axis=1)"
   ]
  },
  {
   "cell_type": "code",
   "execution_count": null,
   "metadata": {
    "collapsed": false,
    "deletable": true,
    "editable": true
   },
   "outputs": [],
   "source": [
    "fig,ax = plt.subplots(figsize=(8,5))\n",
    "for i in np.linspace(10,150,5,dtype='int'):\n",
    "    ax.plot(grid.Y/1e3,Ekinbcd[i,:])\n",
    "ax.set(ylabel=r'$\\int EK \\, dz$ [J/m$^2$]',title='baroclinic EK')\n",
    "CenterPlot()"
   ]
  },
  {
   "cell_type": "markdown",
   "metadata": {
    "deletable": true,
    "editable": true
   },
   "source": [
    "### Potential Energy\n",
    "Perturbation Potential Energy [J/m$^2$]\n",
    "$$ \\overline{E_{p0}} = \\int_0^\\eta \\rho_0\\, g\\, z\\, dz = 1/2\\, \\rho_0\\, g\\, \\eta^2$$"
   ]
  },
  {
   "cell_type": "code",
   "execution_count": null,
   "metadata": {
    "collapsed": false,
    "deletable": true,
    "editable": true
   },
   "outputs": [],
   "source": [
    "Ep0 = np.squeeze(1/2*rho0*gravity*eta.values**2)\n",
    "Ep0.shape"
   ]
  },
  {
   "cell_type": "code",
   "execution_count": null,
   "metadata": {
    "collapsed": false,
    "deletable": true,
    "editable": true
   },
   "outputs": [],
   "source": [
    "fig,ax = plt.subplots(figsize=(8,5))\n",
    "h = ax.pcolormesh(grid.Y/1e3,b6['T']/3600,Ep0,vmin=0,vmax=50,cmap='YlGnBu_r')\n",
    "plt.colorbar(h,extend='max',label='E$_{P0}$ [J/m$^2$]');"
   ]
  },
  {
   "cell_type": "markdown",
   "metadata": {
    "deletable": true,
    "editable": true
   },
   "source": [
    "Available Potential Energy per unit volume [J/m$^3$]\n",
    "$$  E_p' = \\int_{z-\\zeta}^z g [\\rho(z)-\\rho_r(z')]dz' $$"
   ]
  },
  {
   "cell_type": "markdown",
   "metadata": {
    "deletable": true,
    "editable": true
   },
   "source": [
    "The APE can be approximated with the Linear Available Potential Energy Density, $APE$ and $APE_{lin}$ are the same when the stratification of the fluid is constant.\n",
    "$$ APE_{lin} = \\frac{g^2 \\rho'^2}{2 \\rho_0 N^2} $$"
   ]
  },
  {
   "cell_type": "markdown",
   "metadata": {
    "deletable": true,
    "editable": true
   },
   "source": [
    "In this case, we can use the linearized APE but would have to create a look-up table for the vertical distance of a given density to the reference density profile if stratification was non-linear."
   ]
  },
  {
   "cell_type": "code",
   "execution_count": null,
   "metadata": {
    "collapsed": false,
    "deletable": true,
    "editable": true
   },
   "outputs": [],
   "source": [
    "APE = gravity**2*(rhopert*BathyMaskNaN)**2/(2*rho0*1e-6)\n",
    "# bring APE to same times as kinetic energy\n",
    "APE = (APE[1:,:,:]+APE[-1,:,:]) / 2"
   ]
  },
  {
   "cell_type": "markdown",
   "metadata": {
    "deletable": true,
    "editable": true
   },
   "source": [
    "Calculate APE following Lamb as in the lee wave paper"
   ]
  },
  {
   "cell_type": "code",
   "execution_count": null,
   "metadata": {
    "collapsed": true,
    "deletable": true,
    "editable": true
   },
   "outputs": [],
   "source": [
    "def CalculateAPE(ty, ctd):\n",
    "    ffsg = np.array(ctd['sg4filt'])\n",
    "    ffz = np.array(ctd['z'])\n",
    "    Ea = np.array([])\n",
    "    for sg4 in ty.gsw_sigma4.values.T:\n",
    "    # sg4 = ty.gsw_sigma4.values[:,11]\n",
    "        zz = ty.z.values\n",
    "        H = np.array([])\n",
    "        drho = np.array([])\n",
    "        for r, z in zip(sg4, zz):\n",
    "            if ~np.isnan(r) and r>InterfaceSG4:\n",
    "                if r>np.max(sg4):\n",
    "                    H = np.append(H, 5300-z)\n",
    "                    i2 = gv.near(ffz, 5300)\n",
    "                    iz = gv.near(ffz, z) # index of far field depth == towyo depth\n",
    "                    drho = np.append(drho, r-(np.nanmean(ffsg[iz:i2])))\n",
    "                elif r>InterfaceSG4:\n",
    "                    i2 = gv.near(ffsg, r) # index of far field sg==towyo sigma\n",
    "                    iz = gv.near(ffz, z) # index of far field depth == towyo depth\n",
    "                    H = np.append(H, ffz[i2]-z)\n",
    "                    drho = np.append(drho, r-(np.nanmean(ffsg[iz:i2])))\n",
    "\n",
    "        Eatmp = gsw.grav(np.nanmean(ty.lat)) * np.nanmean(H*drho)\n",
    "        Ea = np.append(Ea, Eatmp)\n",
    "    ty['APE'] = (['x'], Ea)\n",
    "    return ty"
   ]
  },
  {
   "cell_type": "code",
   "execution_count": null,
   "metadata": {
    "collapsed": true,
    "deletable": true,
    "editable": true
   },
   "outputs": [],
   "source": []
  },
  {
   "cell_type": "code",
   "execution_count": null,
   "metadata": {
    "collapsed": false,
    "deletable": true,
    "editable": true
   },
   "outputs": [],
   "source": [
    "APEma = np.ma.masked_where(np.squeeze(grid.HFacC)<1, np.squeeze(APE[-1,:,:]))\n",
    "\n",
    "h = plt.pcolormesh(grid.Y/1e3,grid.Z,APEma,cmap='RdYlGn_r',vmin=0,vmax=300)\n",
    "plt.contour(grid.Y/1e3,grid.Z,Ekinma,levels=[100],colors='k')\n",
    "plt.contour(grid.Y/1e3,grid.Z,APEma,levels=[100],colors='r',linestyle='-')\n",
    "# plt.contour(grid.Y/1e3,grid.Z,APEma,levels=[2000],colors='w')\n",
    "CenterPlot(20)\n",
    "plt.colorbar(h,extend='max',label='APE [J/m$^3$]');"
   ]
  },
  {
   "cell_type": "markdown",
   "metadata": {
    "deletable": true,
    "editable": true
   },
   "source": [
    "Depth-integrated APE"
   ]
  },
  {
   "cell_type": "code",
   "execution_count": null,
   "metadata": {
    "collapsed": false,
    "deletable": true,
    "editable": true
   },
   "outputs": [],
   "source": [
    "APEd = np.nansum(APE*drFm,axis=1)"
   ]
  },
  {
   "cell_type": "code",
   "execution_count": null,
   "metadata": {
    "collapsed": false,
    "deletable": true,
    "editable": true
   },
   "outputs": [],
   "source": [
    "ti = -1\n",
    "fig,ax = plt.subplots(figsize=(8,5))\n",
    "ax.plot(grid.Y/1e3,APEd[ti,:],label='APE')\n",
    "ax.plot(grid.Y/1e3,Ekind[ti,:],label='KE')\n",
    "ax.plot(grid.Y/1e3,Ekinbcd[ti,:],label='baroclinic KE')\n",
    "ax.plot(grid.Y/1e3,Ep0[ti,:],label='EP0')\n",
    "ax.legend()\n",
    "ax.set(ylabel='Energy [J/m$^2$]')\n",
    "CenterPlot()"
   ]
  },
  {
   "cell_type": "markdown",
   "metadata": {
    "deletable": true,
    "editable": true
   },
   "source": [
    "Time-evolution of the sum of APE, KE and EP0."
   ]
  },
  {
   "cell_type": "code",
   "execution_count": null,
   "metadata": {
    "collapsed": false,
    "deletable": true,
    "editable": true
   },
   "outputs": [],
   "source": [
    "E = APEd+Ep0+Ekind"
   ]
  },
  {
   "cell_type": "code",
   "execution_count": null,
   "metadata": {
    "collapsed": false,
    "deletable": true,
    "editable": true
   },
   "outputs": [],
   "source": [
    "fig,ax = plt.subplots(figsize=(16,5))\n",
    "h = ax.pcolormesh(grid.Y/1e3,b6['T']/3600,E,cmap='Spectral_r',vmin=0)\n",
    "plt.colorbar(h)\n",
    "CenterPlot(30,ax=ax)"
   ]
  },
  {
   "cell_type": "code",
   "execution_count": null,
   "metadata": {
    "collapsed": true,
    "deletable": true,
    "editable": true
   },
   "outputs": [],
   "source": []
  },
  {
   "cell_type": "markdown",
   "metadata": {
    "deletable": true,
    "editable": true
   },
   "source": [
    "## Buoyancy Flux and BT-BC Conversion"
   ]
  },
  {
   "cell_type": "markdown",
   "metadata": {
    "deletable": true,
    "editable": true
   },
   "source": [
    "The buoyancy flux is defined as\n",
    "$$F_B = \\rho' g w$$\n",
    "and the depth-integrated buoyancy flux within a fixed water column as\n",
    "$$\\overline{F_B} = \\int_{-d}^{\\eta} \\rho' g w\\, dz $$\n",
    "with density perturbation $\\rho'$, gravity $g$ and vertical velocity $w$."
   ]
  },
  {
   "cell_type": "markdown",
   "metadata": {
    "deletable": true,
    "editable": true
   },
   "source": [
    "Vertical velocities are defined on the cell edges, not on the cell center like $g'$, therefore it is interpolated to the cell centers in the following. Vertical velocities are defined on the upper cell faces, there are none on the bottom of the lowest cells."
   ]
  },
  {
   "cell_type": "markdown",
   "metadata": {
    "deletable": true,
    "editable": true
   },
   "source": [
    "The barotropic to baroclinic conversion term is defined as\n",
    "$$F_{Conv} = \\overline{\\rho' g W}$$\n",
    "with the barotropic vertical velocity $W$."
   ]
  },
  {
   "cell_type": "code",
   "execution_count": null,
   "metadata": {
    "collapsed": false,
    "deletable": true,
    "editable": true
   },
   "outputs": [],
   "source": [
    "BuoyancyFlux = gravity*rhopert*WC"
   ]
  },
  {
   "cell_type": "code",
   "execution_count": null,
   "metadata": {
    "collapsed": false,
    "deletable": true,
    "editable": true
   },
   "outputs": [],
   "source": [
    "BarotropicBaroclinicConversion = gravity*rhopert*W3*BathyMaskNaN"
   ]
  },
  {
   "cell_type": "markdown",
   "metadata": {
    "deletable": true,
    "editable": true
   },
   "source": [
    "Let's plot an example of buoyancy flux density:"
   ]
  },
  {
   "cell_type": "code",
   "execution_count": null,
   "metadata": {
    "collapsed": false,
    "deletable": true,
    "editable": true
   },
   "outputs": [],
   "source": [
    "plt.pcolormesh(grid.Y/1e3,grid.Z,np.squeeze(np.mean(BuoyancyFlux[120:-1,:,:],axis=0)),vmin=-0.05,vmax=0.05,cmap='RdBu_r')\n",
    "CenterPlot(15)\n",
    "plt.title('Average Buoyancy Flux Density')\n",
    "plt.colorbar(label=r'$\\rho'' g w$ [W m$^{-3}$]')\n",
    "plt.plot(grid.Y/1e3,-grid.Depth,'k');"
   ]
  },
  {
   "cell_type": "markdown",
   "metadata": {
    "deletable": true,
    "editable": true
   },
   "source": [
    "and BT-BC conversion"
   ]
  },
  {
   "cell_type": "code",
   "execution_count": null,
   "metadata": {
    "collapsed": false,
    "deletable": true,
    "editable": true
   },
   "outputs": [],
   "source": [
    "plt.contourf(grid.Y/1e3,grid.Z,BarotropicBaroclinicConversion[-1,:,:],np.arange(-0.02,0.022,0.002),cmap='RdBu_r')\n",
    "CenterPlot(15)\n",
    "plt.colorbar(label=r'$\\rho'' g W$ [W m$^{-3}$]')\n",
    "plt.plot(grid.Y/1e3,-grid.Depth,'k');"
   ]
  },
  {
   "cell_type": "markdown",
   "metadata": {
    "collapsed": true,
    "deletable": true,
    "editable": true
   },
   "source": [
    "Depth integrals of buoyancy flux and BT-BC conversion"
   ]
  },
  {
   "cell_type": "code",
   "execution_count": null,
   "metadata": {
    "collapsed": false,
    "deletable": true,
    "editable": true
   },
   "outputs": [],
   "source": [
    "# calculate depth at the grid faces from drF and HFacS\n",
    "# DepthC = np.sum(drFC*np.squeeze(grid.HFacC.values),axis=0)\n",
    "BuoyancyFluxDepthIntegrated = np.sum(np.squeeze(BuoyancyFlux)*drFC*np.squeeze(grid.HFacC.values),axis=1)\n",
    "BuoyancyFluxVolumeIntegrated = np.sum(np.sum(BuoyancyFlux*drFC*dyFC*np.squeeze(grid.HFacC.values),axis=1),axis=1)\n",
    "BarotropicBaroclinicConversionDepthIntegrated = np.nansum(BarotropicBaroclinicConversion*drFC*np.squeeze(grid.HFacC.values),axis=1)\n",
    "BarotropicBaroclinicConversionVolumeIntegrated = np.nansum(np.nansum(BarotropicBaroclinicConversion*drFC*dyFC*np.squeeze(grid.HFacC.values),axis=1),axis=1)"
   ]
  },
  {
   "cell_type": "code",
   "execution_count": null,
   "metadata": {
    "collapsed": false,
    "deletable": true,
    "editable": true
   },
   "outputs": [],
   "source": [
    "fig,ax = plt.subplots(ncols=2,figsize=(10,4))\n",
    "ax[0].plot(grid.Y/1e3,BuoyancyFluxDepthIntegrated[150,:])\n",
    "ax[0].set_title('depth integrated buoyancy flux at T=150')\n",
    "ax[1].plot(BuoyancyFluxVolumeIntegrated)\n",
    "ax[1].set(ylabel='Integrated buyoancy flux [W]')\n",
    "ax[1].set_title('Volume integral of buoyancy flux');\n",
    "plt.tight_layout()"
   ]
  },
  {
   "cell_type": "code",
   "execution_count": null,
   "metadata": {
    "collapsed": false,
    "deletable": true,
    "editable": true
   },
   "outputs": [],
   "source": [
    "fig,ax = plt.subplots(ncols=2,figsize=(18,4))\n",
    "h = ax[0].contourf(grid.Y/1e3,b6s['T']/3600,BarotropicBaroclinicConversionDepthIntegrated,np.arange(-12,12.5,0.5),cmap='RdBu_r',extend='both')\n",
    "CenterPlot(dy=20,ax=ax[0])\n",
    "plt.colorbar(h,ax=ax[0],label=r'$\\overline{\\rho'' g W}$ [W/m$^2$]')\n",
    "ax[1].plot(BarotropicBaroclinicConversionVolumeIntegrated)\n",
    "ax[1].set(ylabel='BT/BC Conversion [W]')\n",
    "ax[1].set_title('Volume integral of barotropic-baroclinic conversion');\n",
    "plt.tight_layout()"
   ]
  },
  {
   "cell_type": "markdown",
   "metadata": {
    "deletable": true,
    "editable": true
   },
   "source": [
    "The BT-BC conversion also has the non-hydrostatic part\n",
    "$$\\overline{q_z W}$$"
   ]
  },
  {
   "cell_type": "code",
   "execution_count": null,
   "metadata": {
    "collapsed": false,
    "deletable": true,
    "editable": true
   },
   "outputs": [],
   "source": [
    "# plot non-hydrostatic pressure potential anomaly\n",
    "fig,ax = plt.subplots(figsize=(10,5))\n",
    "h = ax.contourf(grid.Y/1e3,grid.Z,np.squeeze(b6s.phi_nh[-1,:,:])*BathyMaskNaN,np.arange(-0.1,0.11,0.01),cmap='RdBu_r',extend='both')\n",
    "plt.colorbar(h)\n",
    "CenterPlot(15,ax)\n",
    "plt.plot(grid.Y/1e3,-grid.Depth,'k')"
   ]
  },
  {
   "cell_type": "code",
   "execution_count": null,
   "metadata": {
    "collapsed": false,
    "deletable": true,
    "editable": true
   },
   "outputs": [],
   "source": [
    "# non-hydrostatic pressure potential anomaly\n",
    "q = np.squeeze(b6s.phi_nh.values)\n",
    "# multiply with density for non-hydrostatic pressure anomaly\n",
    "q = q*rho0\n",
    "drC = np.tile(grid.drC.values.T,(2000,1))\n",
    "drC = drC.T\n",
    "qz = np.gradient(q,axis=1)/((drC[1:,:] + drC[:-1,:])/2)\n",
    "qz = (qz[1:,:,:] + qz[:-1,:,:])/2"
   ]
  },
  {
   "cell_type": "code",
   "execution_count": null,
   "metadata": {
    "collapsed": false,
    "deletable": true,
    "editable": true
   },
   "outputs": [],
   "source": [
    "nonhydConversion = qz*WC*BathyMaskNaN"
   ]
  },
  {
   "cell_type": "code",
   "execution_count": null,
   "metadata": {
    "collapsed": false,
    "deletable": true,
    "editable": true
   },
   "outputs": [],
   "source": [
    "fig,ax = plt.subplots(figsize=(10,5))\n",
    "h = ax.contourf(grid.Y/1e3,grid.Z,nonhydConversion[-1,:,:],np.arange(-2e-2,2.1e-2,1e-3),cmap='RdBu_r',extend='both')\n",
    "plt.colorbar(h,label='$q_z W$ [W/m$^3$]')\n",
    "CenterPlot(15,ax)\n",
    "ax.plot(grid.Y/1e3,-grid.Depth,'k');"
   ]
  },
  {
   "cell_type": "markdown",
   "metadata": {
    "deletable": true,
    "editable": true
   },
   "source": [
    "Depth-integrated non-hydrostatic conversion"
   ]
  },
  {
   "cell_type": "code",
   "execution_count": null,
   "metadata": {
    "collapsed": false,
    "deletable": true,
    "editable": true
   },
   "outputs": [],
   "source": [
    "nonhydConversionDepthIntegrated = np.nansum(nonhydConversion*drFC*np.squeeze(grid.HFacC.values),axis=1)\n",
    "nonhydConversionVolumeIntegrated = np.nansum(np.nansum(nonhydConversion*drFC*dyFC*np.squeeze(grid.HFacC.values),axis=1),axis=1)"
   ]
  },
  {
   "cell_type": "code",
   "execution_count": null,
   "metadata": {
    "collapsed": false,
    "deletable": true,
    "editable": true
   },
   "outputs": [],
   "source": [
    "fig,ax = plt.subplots(ncols=2,figsize=(12,4))\n",
    "h = ax[0].contourf(grid.Y/1e3,b62['T']/3600,nonhydConversionDepthIntegrated,np.arange(-12,12.5,0.5),cmap='RdBu_r',extend='both')\n",
    "CenterPlot(dy=20,ax=ax[0])\n",
    "plt.colorbar(h,ax=ax[0],label=r'$q_z W$ [W/m$^2$]')\n",
    "ax[1].plot(b62['T']/3600,nonhydConversionVolumeIntegrated)\n",
    "ax[1].set(ylabel='nonhydrostatic BT/BC Conversion [W]')\n",
    "ax[1].set_title('Volume integral of non-hydrostatic barotropic-baroclinic conversion');\n",
    "plt.tight_layout()"
   ]
  },
  {
   "cell_type": "code",
   "execution_count": null,
   "metadata": {
    "collapsed": false,
    "deletable": true,
    "editable": true
   },
   "outputs": [],
   "source": [
    "plt.plot(nonhydConversionVolumeIntegrated+BarotropicBaroclinicConversionVolumeIntegrated)"
   ]
  },
  {
   "cell_type": "markdown",
   "metadata": {
    "deletable": true,
    "editable": true
   },
   "source": [
    "## Turbulent Dissipation\n",
    "Integrate turbulent dissipation with depth"
   ]
  },
  {
   "cell_type": "code",
   "execution_count": null,
   "metadata": {
    "collapsed": false,
    "deletable": true,
    "editable": true
   },
   "outputs": [],
   "source": [
    "eps = np.squeeze(b6.KLeps.values)*BathyMaskNaN"
   ]
  },
  {
   "cell_type": "code",
   "execution_count": null,
   "metadata": {
    "collapsed": false,
    "deletable": true,
    "editable": true
   },
   "outputs": [],
   "source": [
    "plt.pcolormesh(grid.Y/1e3,grid.Z,np.ma.masked_where(np.squeeze(grid.HFacC)<1,np.log10(eps[150,:,:])),vmin=-12,vmax=-5,cmap='Spectral_r')\n",
    "plt.colorbar(label=r'log10($\\epsilon$) [m$^2$/s$^{-3}$]')\n",
    "CenterPlot()"
   ]
  },
  {
   "cell_type": "code",
   "execution_count": null,
   "metadata": {
    "collapsed": false,
    "deletable": true,
    "editable": true
   },
   "outputs": [],
   "source": [
    "eps2 = np.nansum(rho0*np.squeeze(grid.HFacC.values)*eps*np.tile(grid.drF.values,(2000,1)).T,axis=1)"
   ]
  },
  {
   "cell_type": "code",
   "execution_count": null,
   "metadata": {
    "collapsed": false,
    "deletable": true,
    "editable": true
   },
   "outputs": [],
   "source": [
    "fig,ax = plt.subplots()\n",
    "ax.plot(grid.Y/1e3,eps2[150,:],'k')\n",
    "ax.set(ylabel=r'$\\int \\rho \\epsilon \\,  dz$ [W\\m$^2$]',xlabel='distance [km]')\n",
    "CenterPlot()"
   ]
  },
  {
   "cell_type": "markdown",
   "metadata": {
    "deletable": true,
    "editable": true
   },
   "source": [
    "Integrate (cumulative) horizontally"
   ]
  },
  {
   "cell_type": "code",
   "execution_count": null,
   "metadata": {
    "collapsed": true,
    "deletable": true,
    "editable": true
   },
   "outputs": [],
   "source": [
    "eps3 = np.nancumsum(eps2,axis=1)"
   ]
  },
  {
   "cell_type": "markdown",
   "metadata": {
    "deletable": true,
    "editable": true
   },
   "source": [
    "Plot for a few time steps"
   ]
  },
  {
   "cell_type": "code",
   "execution_count": null,
   "metadata": {
    "collapsed": false,
    "deletable": true,
    "editable": true
   },
   "outputs": [],
   "source": [
    "fig,ax = plt.subplots()\n",
    "for i in np.linspace(10,150,5,dtype='int'):\n",
    "    ax.plot(grid.Y/1e3,eps3[i,:],label='{0}'.format(i))\n",
    "ax.set(ylabel=r'$\\int \\rho \\epsilon \\,dz\\,dx$ [W\\m]',xlabel='distance [km]')\n",
    "ax.legend()\n",
    "CenterPlot()"
   ]
  },
  {
   "cell_type": "markdown",
   "metadata": {
    "deletable": true,
    "editable": true
   },
   "source": [
    "## Energy flux\n",
    "$$F = (KE + APE) v$$ [J/m$^3$ m/s]=[W/m$^2$]"
   ]
  },
  {
   "cell_type": "code",
   "execution_count": null,
   "metadata": {
    "collapsed": false,
    "deletable": true,
    "editable": true
   },
   "outputs": [],
   "source": [
    "n = 150\n",
    "F = np.squeeze(Ekin[n,:,:])*np.squeeze(VC[n,:,:])+np.squeeze(APE[n,:,:])*np.squeeze(VC[n,:,:])"
   ]
  },
  {
   "cell_type": "code",
   "execution_count": null,
   "metadata": {
    "collapsed": false,
    "deletable": true,
    "editable": true
   },
   "outputs": [],
   "source": [
    "plt.contourf(grid.Y/1e3,grid.Z,F,np.linspace(-1e3,1e3,21),cmap='RdBu_r')\n",
    "plt.colorbar()\n",
    "CenterPlot()"
   ]
  },
  {
   "cell_type": "markdown",
   "metadata": {
    "deletable": true,
    "editable": true
   },
   "source": [
    "Integrate vertically"
   ]
  },
  {
   "cell_type": "code",
   "execution_count": null,
   "metadata": {
    "collapsed": true,
    "deletable": true,
    "editable": true
   },
   "outputs": [],
   "source": [
    "Fd = np.nansum(F*drFm,axis=0)"
   ]
  },
  {
   "cell_type": "code",
   "execution_count": null,
   "metadata": {
    "collapsed": false,
    "deletable": true,
    "editable": true
   },
   "outputs": [],
   "source": [
    "fig,ax = plt.subplots(figsize=(8,5))\n",
    "ax.plot(grid.Y/1e3,Fd)\n",
    "ax.set(ylabel='F [W/m]',xlabel='distance [km]');"
   ]
  },
  {
   "cell_type": "markdown",
   "metadata": {
    "deletable": true,
    "editable": true
   },
   "source": [
    "## Form Drag\n",
    "\n",
    "The form drag per unit width (as we are working in 2D) is:\n",
    "$$D_{Form} = - \\int P_{bot}\\, dh/dy\\, dy$$\n",
    "\n",
    "Depth is defined at cell centers, $dH/dy$ will be defined on the cell faces. We'll interpolate back to cell centers since bottom pressure is defined here.\n",
    "\n",
    "The bottom pressure anomaly vs. time looks like this:"
   ]
  },
  {
   "cell_type": "code",
   "execution_count": null,
   "metadata": {
    "collapsed": false,
    "deletable": true,
    "editable": true
   },
   "outputs": [],
   "source": [
    "b62.PHIBOT"
   ]
  },
  {
   "cell_type": "code",
   "execution_count": null,
   "metadata": {
    "collapsed": false,
    "deletable": true,
    "editable": true
   },
   "outputs": [],
   "source": [
    "b62.PHIBOT.plot();"
   ]
  },
  {
   "cell_type": "code",
   "execution_count": null,
   "metadata": {
    "collapsed": false,
    "deletable": true,
    "editable": true
   },
   "outputs": [],
   "source": [
    "# first calculate dh/dy on cell faces since depth is given for cell center\n",
    "dhdyF = np.squeeze(0.*grid.YG.values[:,0])\n",
    "test = grid.Depth.diff(dim='Y').values/grid['dyC'].values[1:-1]\n",
    "dhdyF[1:-1] = np.squeeze(test)\n",
    "# interpolate to grid centers\n",
    "from scipy.interpolate import interp1d\n",
    "f = interp1d(np.squeeze(grid.YG.values[:,0]),dhdyF,bounds_error=False)\n",
    "dhdy = f(grid.Y.values)\n",
    "\n",
    "DF = np.squeeze(b62.PHIBOT.values)*rho0*dhdy\n",
    "\n",
    "# from jody https://github.com/jklymak/LW1kmPython/blob/master/GetEnergyBudget.py\n",
    "# dhdx = 0.*ds.Depth.values\n",
    "# dhdx[:,1:] = ds.Depth.diff(dim='XC').values/ds['dxC'].values\n",
    "# dhdx[:,0]=(grid.Depth[:,-1]-grid.Depth[:,0])/grid['dyC'][0,0]"
   ]
  },
  {
   "cell_type": "code",
   "execution_count": null,
   "metadata": {
    "collapsed": false,
    "deletable": true,
    "editable": true
   },
   "outputs": [],
   "source": [
    "plt.pcolormesh(grid.Y.values,b6.iter,DF,vmin=-35,vmax=35,cmap='RdBu')\n",
    "plt.colorbar()\n",
    "plt.gca().set(xlim=(2.84e5,2.95e5))"
   ]
  },
  {
   "cell_type": "markdown",
   "metadata": {
    "deletable": true,
    "editable": true
   },
   "source": [
    "Now integrate along $y$:"
   ]
  },
  {
   "cell_type": "code",
   "execution_count": null,
   "metadata": {
    "collapsed": false,
    "deletable": true,
    "editable": true
   },
   "outputs": [],
   "source": [
    "DF = np.sum(-DF*np.squeeze(grid.dyF.values),axis=1)"
   ]
  },
  {
   "cell_type": "code",
   "execution_count": null,
   "metadata": {
    "collapsed": false,
    "deletable": true,
    "editable": true
   },
   "outputs": [],
   "source": [
    "fig, ax = plt.subplots()\n",
    "ax.plot(b6['T']/3600,DF)\n",
    "ax.grid()\n",
    "ax.set(xlabel='time [hrs]',ylabel='D$_{Form}$ [N/m]',title='Form Drag');"
   ]
  },
  {
   "cell_type": "markdown",
   "metadata": {
    "deletable": true,
    "editable": true
   },
   "source": [
    "The spikes must be due to the barotropic waves crossing the bump."
   ]
  },
  {
   "cell_type": "markdown",
   "metadata": {
    "deletable": true,
    "editable": true
   },
   "source": [
    "The energy lost to form drag is $U D_{Form}$ - not quite sure which velocity to use here. Maybe the upstream velocity 0.2 m/s?"
   ]
  },
  {
   "cell_type": "code",
   "execution_count": null,
   "metadata": {
    "collapsed": false,
    "deletable": true,
    "editable": true
   },
   "outputs": [],
   "source": [
    "EDF = DF*0.2\n",
    "fig, ax = plt.subplots()\n",
    "ax.plot(b6['T']/3600,EDF)\n",
    "ax.grid()\n",
    "ax.set(xlabel='time [hrs]',ylabel='E$_{DForm}$ [J]',title='Energy lost to Form Drag');"
   ]
  },
  {
   "cell_type": "markdown",
   "metadata": {
    "deletable": true,
    "editable": true
   },
   "source": [
    "## Internal wave energy flux w$\\prime$p$\\prime$"
   ]
  },
  {
   "cell_type": "code",
   "execution_count": null,
   "metadata": {
    "collapsed": true,
    "deletable": true,
    "editable": true
   },
   "outputs": [],
   "source": [
    "AveragingInterval = slice(120,150)"
   ]
  },
  {
   "cell_type": "markdown",
   "metadata": {
    "deletable": true,
    "editable": true
   },
   "source": [
    "Calculate mean pressure for time steps 100-150"
   ]
  },
  {
   "cell_type": "code",
   "execution_count": null,
   "metadata": {
    "collapsed": true,
    "deletable": true,
    "editable": true
   },
   "outputs": [],
   "source": [
    "meanP = np.mean(PP[AveragingInterval,:,:],axis=0)"
   ]
  },
  {
   "cell_type": "markdown",
   "metadata": {
    "deletable": true,
    "editable": true
   },
   "source": [
    "Calculate p'"
   ]
  },
  {
   "cell_type": "code",
   "execution_count": null,
   "metadata": {
    "collapsed": true,
    "deletable": true,
    "editable": true
   },
   "outputs": [],
   "source": [
    "pp = PP[AveragingInterval,:,:]-meanP"
   ]
  },
  {
   "cell_type": "markdown",
   "metadata": {
    "deletable": true,
    "editable": true
   },
   "source": [
    "Calculate v', w'"
   ]
  },
  {
   "cell_type": "markdown",
   "metadata": {
    "deletable": true,
    "editable": true
   },
   "source": [
    "w is defined on the upper/lower grid boundaries, v at the center.\n",
    "\n",
    "This is the depth vector for w:\n",
    "\n",
    "``Zl       (Zl) float64 0.0 -62.96 -124.9 -185.7``"
   ]
  },
  {
   "cell_type": "code",
   "execution_count": null,
   "metadata": {
    "collapsed": true,
    "deletable": true,
    "editable": true
   },
   "outputs": [],
   "source": [
    "V = np.squeeze(b6.VVEL.values)\n",
    "# V = V[:,:-1,:]\n",
    "# W = np.squeeze(b6.WVEL.values)\n",
    "# interpolate to grid center - for w in the vertical, v in the horizontal\n",
    "# W = (W[:,1:,:]+W[:,:-1,:]) / 2\n",
    "\n",
    "# use WC from earlier\n",
    "WC = np.squeeze(WC)\n",
    "\n",
    "V = (V[:,:,1:]+V[:,:,:-1]) / 2"
   ]
  },
  {
   "cell_type": "code",
   "execution_count": null,
   "metadata": {
    "collapsed": false,
    "deletable": true,
    "editable": true
   },
   "outputs": [],
   "source": [
    "WC.shape"
   ]
  },
  {
   "cell_type": "code",
   "execution_count": null,
   "metadata": {
    "collapsed": false,
    "deletable": true,
    "editable": true
   },
   "outputs": [],
   "source": [
    "V.shape"
   ]
  },
  {
   "cell_type": "code",
   "execution_count": null,
   "metadata": {
    "collapsed": true,
    "deletable": true,
    "editable": true
   },
   "outputs": [],
   "source": [
    "meanV = np.mean(V[AveragingInterval,:,:],axis=0)\n",
    "meanW = np.mean(WC[AveragingInterval,:,:],axis=0)"
   ]
  },
  {
   "cell_type": "code",
   "execution_count": null,
   "metadata": {
    "collapsed": true,
    "deletable": true,
    "editable": true
   },
   "outputs": [],
   "source": [
    "vp = V[AveragingInterval,:,:]-meanV\n",
    "wp = WC[AveragingInterval,:,:]-meanW"
   ]
  },
  {
   "cell_type": "code",
   "execution_count": null,
   "metadata": {
    "collapsed": false,
    "deletable": true,
    "editable": true
   },
   "outputs": [],
   "source": [
    "vppp = vp*pp\n",
    "wppp = wp*pp"
   ]
  },
  {
   "cell_type": "markdown",
   "metadata": {
    "deletable": true,
    "editable": true
   },
   "source": [
    "Average in time"
   ]
  },
  {
   "cell_type": "code",
   "execution_count": null,
   "metadata": {
    "collapsed": true,
    "deletable": true,
    "editable": true
   },
   "outputs": [],
   "source": [
    "mwppp = np.mean(wppp,axis=0)\n",
    "mvppp = np.mean(vppp,axis=0)"
   ]
  },
  {
   "cell_type": "code",
   "execution_count": null,
   "metadata": {
    "collapsed": false,
    "deletable": true,
    "editable": true
   },
   "outputs": [],
   "source": [
    "mvppp.shape"
   ]
  },
  {
   "cell_type": "markdown",
   "metadata": {
    "deletable": true,
    "editable": true
   },
   "source": [
    "Average along y"
   ]
  },
  {
   "cell_type": "code",
   "execution_count": null,
   "metadata": {
    "collapsed": true,
    "deletable": true,
    "editable": true
   },
   "outputs": [],
   "source": [
    "MeanVerticalEnergyFlux = np.mean(mwppp,axis=1)\n",
    "MeanHorizontalEnergyFlux = np.mean(mvppp,axis=1)"
   ]
  },
  {
   "cell_type": "code",
   "execution_count": null,
   "metadata": {
    "collapsed": false,
    "deletable": true,
    "editable": true
   },
   "outputs": [],
   "source": [
    "fig, ax = plt.subplots(ncols=2, figsize=(10,5), sharey=True)\n",
    "\n",
    "# calculate mean density for overlay\n",
    "th = np.squeeze(b6.THETA.values)\n",
    "mth = np.mean(th[AveragingInterval,:,:],axis=0)\n",
    "\n",
    "h = ax[0].pcolormesh(grid.Y/1000,-grid.Z,mwppp,vmin=-1,vmax=1,cmap='RdBu_r')\n",
    "ax[0].contour(grid.Y/1000,-grid.Z,mth,levels=np.arange(1.6,3,0.1), colors='k', alpha=0.2, linewidths=1)\n",
    "plt.colorbar(h, ax=ax[0])\n",
    "ax[0].plot(grid.Y/1000,grid.Depth,'k');\n",
    "ax[0].set(xlim=(my-20,my+20),ylim=(3000,0),ylabel='depth [m]',xlabel='distance [km]')\n",
    "# ax[0].invert_yaxis()\n",
    "\n",
    "ax[1].plot(MeanVerticalEnergyFlux,-grid.Z)\n",
    "ax[1].grid(True)\n",
    "ax[1].set(xlabel='w$\\prime$p$\\prime$')\n",
    "plt.tight_layout()\n",
    "if 1:\n",
    "    plt.savefig('fig/bump_vertical_energy_flux.png',dpi=300)"
   ]
  },
  {
   "cell_type": "code",
   "execution_count": null,
   "metadata": {
    "collapsed": false,
    "deletable": true,
    "editable": true
   },
   "outputs": [],
   "source": [
    "fig, ax = plt.subplots(ncols=3, figsize=(15,5), sharey=True)\n",
    "\n",
    "# calculate mean density for overlay\n",
    "th = np.squeeze(b6.THETA.values)\n",
    "mth = np.mean(th[AveragingInterval,:,:],axis=0)\n",
    "\n",
    "h = ax[0].pcolormesh(grid.Y/1000,-grid.Z,mvppp,vmin=-1,vmax=1,cmap='RdBu_r')\n",
    "ax[0].contour(grid.Y/1000,-grid.Z,mth,levels=np.arange(1.6,3,0.1), colors='k', alpha=0.2, linewidths=1)\n",
    "plt.colorbar(h, ax=ax[0])\n",
    "ax[0].plot(grid.Y/1000,grid.Depth,'k');\n",
    "ax[0].set(ylim=(3000,0),ylabel='depth [m]',xlabel='distance [km]')\n",
    "\n",
    "h = ax[1].pcolormesh(grid.Y/1000,-grid.Z,mvppp,vmin=-1,vmax=1,cmap=cmocean.cm.balance)\n",
    "ax[1].contour(grid.Y/1000,-grid.Z,mth,levels=np.arange(1.6,3,0.1), colors='k', alpha=0.2, linewidths=1)\n",
    "plt.colorbar(h, ax=ax[1])\n",
    "ax[1].plot(grid.Y/1000,grid.Depth,'k');\n",
    "ax[1].set(xlim=(my-20,my+20),ylim=(3000,0),ylabel='depth [m]',xlabel='distance [km]')\n",
    "\n",
    "ax[2].plot(MeanHorizontalEnergyFlux,-grid.Z)\n",
    "ax[2].grid(True)\n",
    "ax[2].set(xlabel='v$\\prime$p$\\prime$')\n",
    "plt.tight_layout()\n",
    "if 1:\n",
    "    plt.savefig('fig/bump_horizontal_energy_flux.png',dpi=300)"
   ]
  },
  {
   "cell_type": "code",
   "execution_count": null,
   "metadata": {
    "collapsed": false,
    "deletable": true,
    "editable": true
   },
   "outputs": [],
   "source": [
    "print(np.mean(MeanVerticalEnergyFlux))\n",
    "print(np.mean(MeanHorizontalEnergyFlux))"
   ]
  },
  {
   "cell_type": "markdown",
   "metadata": {
    "deletable": true,
    "editable": true
   },
   "source": [
    "Looks like the mean vertical energy flux is directed upwards."
   ]
  },
  {
   "cell_type": "markdown",
   "metadata": {
    "collapsed": true,
    "deletable": true,
    "editable": true
   },
   "source": [
    "## Barotropic-baroclinic conversion vs dissipation and horizontal fluxes"
   ]
  },
  {
   "cell_type": "markdown",
   "metadata": {
    "deletable": true,
    "editable": true
   },
   "source": [
    "See how far left and right of the ridge we want to integrate. How about starting with 20 km?"
   ]
  },
  {
   "cell_type": "code",
   "execution_count": null,
   "metadata": {
    "collapsed": false,
    "deletable": true,
    "editable": true
   },
   "outputs": [],
   "source": [
    "dy = 20\n",
    "yi = np.squeeze(np.where( (grid.Y/1e3>my-dy) & (grid.Y/1e3<my+dy) ))"
   ]
  },
  {
   "cell_type": "code",
   "execution_count": null,
   "metadata": {
    "collapsed": true,
    "deletable": true,
    "editable": true
   },
   "outputs": [],
   "source": [
    "BTBCtmp = (BarotropicBaroclinicConversion[1:,:,:] + BarotropicBaroclinicConversion[:-1,:,:]) /2\n",
    "BTBCIntegrated = np.nansum(np.nansum(BTBCtmp[:,:,yi]*drFC[:,yi]*dyFC[:,yi]*np.squeeze(grid.HFacC.values[:,yi,:]),axis=1),axis=1)"
   ]
  },
  {
   "cell_type": "code",
   "execution_count": null,
   "metadata": {
    "collapsed": false,
    "deletable": true,
    "editable": true
   },
   "outputs": [],
   "source": [
    "nhBTBCIntegrated = np.nansum(np.nansum(nonhydConversion[:,:,yi]*drFC[:,yi]*dyFC[:,yi]*np.squeeze(grid.HFacC.values[:,yi,:]),axis=1),axis=1)"
   ]
  },
  {
   "cell_type": "code",
   "execution_count": null,
   "metadata": {
    "collapsed": false,
    "deletable": true,
    "editable": true
   },
   "outputs": [],
   "source": [
    "plt.plot(BTBCIntegrated,label='BTBC')\n",
    "plt.plot(nhBTBCIntegrated,label='nonhydBTBC')\n",
    "plt.legend()"
   ]
  },
  {
   "cell_type": "markdown",
   "metadata": {
    "deletable": true,
    "editable": true
   },
   "source": [
    "integrate turbulent dissipation"
   ]
  },
  {
   "cell_type": "code",
   "execution_count": null,
   "metadata": {
    "collapsed": false,
    "deletable": true,
    "editable": true
   },
   "outputs": [],
   "source": [
    "epsint = np.nansum(np.nansum(rho0*np.squeeze(grid.HFacC.values[:,yi])*eps[:,:,yi]*drFC[:,yi]*dyFC[:,yi],axis=1),axis=1)"
   ]
  },
  {
   "cell_type": "code",
   "execution_count": null,
   "metadata": {
    "collapsed": false,
    "deletable": true,
    "editable": true
   },
   "outputs": [],
   "source": [
    "plt.plot(epsint)"
   ]
  },
  {
   "cell_type": "markdown",
   "metadata": {
    "deletable": true,
    "editable": true
   },
   "source": [
    "depth-integrate horizontal wave energy flux at left and right point"
   ]
  },
  {
   "cell_type": "code",
   "execution_count": null,
   "metadata": {
    "collapsed": false,
    "deletable": true,
    "editable": true
   },
   "outputs": [],
   "source": [
    "upleft = np.nansum(vppp[:,:,yi[0]]*drFC[:,yi[0]],axis=1)\n",
    "upright = np.nansum(vppp[:,:,yi[-1]]*drFC[:,yi[-1]],axis=1)\n",
    "\n",
    "upDepthIntegrated = np.nansum(vppp[:,:,:]*drFC[:,:],axis=1)"
   ]
  },
  {
   "cell_type": "code",
   "execution_count": null,
   "metadata": {
    "collapsed": false,
    "deletable": true,
    "editable": true
   },
   "outputs": [],
   "source": [
    "plt.pcolormesh(grid.Y/1e3,b62['T'][AveragingInterval]/3600,upDepthIntegrated,cmap='RdBu_r',vmin=-500,vmax=500)\n",
    "plt.colorbar(label='$\\overline{u\\prime p\\prime}$ [W/m]')\n",
    "CenterPlot()"
   ]
  },
  {
   "cell_type": "code",
   "execution_count": null,
   "metadata": {
    "collapsed": false,
    "deletable": true,
    "editable": true
   },
   "outputs": [],
   "source": [
    "plt.plot(np.arange(120,150),upleft,label='u''p''L')\n",
    "plt.plot(np.arange(120,150),upright,label='u''p''R')\n",
    "plt.legend()"
   ]
  },
  {
   "cell_type": "markdown",
   "metadata": {
    "deletable": true,
    "editable": true
   },
   "source": [
    "Plot all three therms and the sum"
   ]
  },
  {
   "cell_type": "code",
   "execution_count": null,
   "metadata": {
    "collapsed": false,
    "deletable": true,
    "editable": true
   },
   "outputs": [],
   "source": [
    "fig,ax = plt.subplots(figsize=(8,5))\n",
    "plt.plot(BTBCIntegrated-nhBTBCIntegrated,label='BTBC')\n",
    "plt.plot(epsint,label='$\\epsilon$')\n",
    "plt.plot(np.arange(120,150),upleft,label='u''p''L')\n",
    "plt.plot(np.arange(120,150),upright,label='u''p''R')\n",
    "allTerms = -(BTBCIntegrated[AveragingInterval]-nhBTBCIntegrated[AveragingInterval])+epsint[AveragingInterval]+upleft+upright\n",
    "plt.plot(np.arange(120,150),allTerms,label='all')\n",
    "plt.legend()"
   ]
  },
  {
   "cell_type": "code",
   "execution_count": null,
   "metadata": {
    "collapsed": true,
    "deletable": true,
    "editable": true
   },
   "outputs": [],
   "source": []
  }
 ],
 "metadata": {
  "kernelspec": {
   "display_name": "Python 3",
   "language": "python",
   "name": "python3"
  },
  "language_info": {
   "codemirror_mode": {
    "name": "ipython",
    "version": 3
   },
   "file_extension": ".py",
   "mimetype": "text/x-python",
   "name": "python",
   "nbconvert_exporter": "python",
   "pygments_lexer": "ipython3",
   "version": "3.5.3"
  }
 },
 "nbformat": 4,
 "nbformat_minor": 2
}
