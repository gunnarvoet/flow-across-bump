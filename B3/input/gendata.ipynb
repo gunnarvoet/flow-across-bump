{
 "cells": [
  {
   "cell_type": "markdown",
   "metadata": {},
   "source": [
    "# Generate mitgcm input data BUMP B3\n",
    "Note: Endianness of the binary files written here is not explicitly set and will depend on the machine you are working on. Use [numpy.dtype.newbyteorder](https://docs.scipy.org/doc/numpy/reference/generated/numpy.dtype.newbyteorder.html) to explicitly set the endianness or compile mitgcm such that the machine default will be used."
   ]
  },
  {
   "cell_type": "code",
   "execution_count": 1,
   "metadata": {
    "collapsed": false
   },
   "outputs": [],
   "source": [
    "%matplotlib inline\n",
    "import numpy as np\n",
    "import scipy as sp\n",
    "import matplotlib.pyplot as plt\n",
    "from os import mkdir\n",
    "import gsw\n",
    "import gvpy.gvimport as gvi"
   ]
  },
  {
   "cell_type": "code",
   "execution_count": 2,
   "metadata": {
    "collapsed": true
   },
   "outputs": [],
   "source": [
    "import warnings\n",
    "warnings.filterwarnings('ignore')"
   ]
  },
  {
   "cell_type": "markdown",
   "metadata": {},
   "source": [
    "It seems like float64 is the default data type in numpy, but let's be clear about this and write a little test/conversion function."
   ]
  },
  {
   "cell_type": "code",
   "execution_count": 3,
   "metadata": {
    "collapsed": true
   },
   "outputs": [],
   "source": [
    "def CheckFloat64(x):\n",
    "    if x.dtype == np.float64:\n",
    "        print('its a float64')\n",
    "    else:\n",
    "        print('converting to float64')\n",
    "        x = x.astype(np.float64)\n",
    "    return x"
   ]
  },
  {
   "cell_type": "code",
   "execution_count": 4,
   "metadata": {
    "collapsed": false
   },
   "outputs": [],
   "source": [
    "try:\n",
    "    mkdir('fig/')\n",
    "except:\n",
    "    print('fig/'+' already exists')"
   ]
  },
  {
   "cell_type": "markdown",
   "metadata": {},
   "source": [
    "Basic geometry for this case is 100 vertical levels and 8*250 horizontal levels"
   ]
  },
  {
   "cell_type": "code",
   "execution_count": 5,
   "metadata": {
    "collapsed": true
   },
   "outputs": [],
   "source": [
    "nx = 1\n",
    "ny = 2000\n",
    "nz = 100"
   ]
  },
  {
   "cell_type": "markdown",
   "metadata": {},
   "source": [
    "## Horizontal resolution"
   ]
  },
  {
   "cell_type": "code",
   "execution_count": 6,
   "metadata": {
    "collapsed": false
   },
   "outputs": [
    {
     "name": "stdout",
     "output_type": "stream",
     "text": [
      "its a float64\n"
     ]
    }
   ],
   "source": [
    "a = np.linspace(1000, 50, 500, dtype=np.float64)\n",
    "b = np.squeeze(np.ones((1, 1000), dtype=np.float64))*50\n",
    "c = np.linspace(50, 1000, 500, dtype=np.float64)\n",
    "\n",
    "dy = np.hstack((a,b,c))\n",
    "# unlike Matlab cumsum np.cumsum preserves input shape\n",
    "y  = np.cumsum(dy)\n",
    "y  = y - y[999]\n",
    "\n",
    "# make sure dy is a float64\n",
    "dy = CheckFloat64(dy)\n",
    "# save to binary file\n",
    "with open(\"delYvar\", 'wb') as f:\n",
    "    dy.tofile(f)"
   ]
  },
  {
   "cell_type": "code",
   "execution_count": 7,
   "metadata": {
    "collapsed": false
   },
   "outputs": [
    {
     "data": {
      "image/png": "[encoded data removed]",
      "text/plain": [
       "<matplotlib.figure.Figure at 0x1145db438>"
      ]
     },
     "metadata": {},
     "output_type": "display_data"
    }
   ],
   "source": [
    "fig, ax = plt.subplots(2,1, sharex=True, figsize=(5,6))\n",
    "ax[0].plot(dy, 'k.')\n",
    "ax[0].set_title('cell size dy')\n",
    "ax[0].set_ylabel('cell size [m]')\n",
    "\n",
    "ax[1].plot(y/1000, 'k.')\n",
    "ax[1].set_title('grid spacing y')\n",
    "ax[1].set_ylabel('distance [km]')\n",
    "ax[1].set_xlabel('grid index')\n",
    "\n",
    "\n",
    "plt.tight_layout()\n",
    "plt.savefig('fig/dy_and_y.pdf')"
   ]
  },
  {
   "cell_type": "markdown",
   "metadata": {},
   "source": [
    "## Vertical resolution"
   ]
  },
  {
   "cell_type": "code",
   "execution_count": 8,
   "metadata": {
    "collapsed": false
   },
   "outputs": [
    {
     "name": "stdout",
     "output_type": "stream",
     "text": [
      "its a float64\n"
     ]
    }
   ],
   "source": [
    "# from bottom up - start out with 20m resolution here\n",
    "dz1 = np.ones(60)*20\n",
    "rema = 2900 - np.sum(dz1)\n",
    "xx = np.arange(1,41,1)+20\n",
    "dz2 = xx*rema/np.sum(xx)\n",
    "dz = np.hstack((dz1, dz2))\n",
    "dz = np.flipud(dz)\n",
    "z = np.cumsum(dz)\n",
    "# make sure dz is in float64\n",
    "dz = CheckFloat64(dz)\n",
    "# save to binary file\n",
    "with open(\"delZvar\", 'wb') as f:\n",
    "    dz.tofile(f)"
   ]
  },
  {
   "cell_type": "code",
   "execution_count": 9,
   "metadata": {
    "collapsed": false
   },
   "outputs": [
    {
     "data": {
      "image/png": "[encoded data removed]",
      "text/plain": [
       "<matplotlib.figure.Figure at 0x116dbca20>"
      ]
     },
     "metadata": {},
     "output_type": "display_data"
    }
   ],
   "source": [
    "fig, ax = plt.subplots()\n",
    "ax.plot(dz, -z, 'k.')\n",
    "ax.set_ylabel('z [m]')\n",
    "ax.set_xlabel('dz [m]')\n",
    "plt.tight_layout()\n",
    "plt.savefig('fig/dz.pdf')"
   ]
  },
  {
   "cell_type": "markdown",
   "metadata": {},
   "source": [
    "## Bottom topography\n",
    "Try some kind of Witch of Agnesi\n",
    "$$\n",
    "y = b \\frac{a^3}{a^2+x^2}\n",
    "$$"
   ]
  },
  {
   "cell_type": "code",
   "execution_count": 10,
   "metadata": {
    "collapsed": false
   },
   "outputs": [
    {
     "name": "stdout",
     "output_type": "stream",
     "text": [
      "its a float64\n"
     ]
    }
   ],
   "source": [
    "# steepness (smaller a is steeper)\n",
    "a = 2000\n",
    "# max height\n",
    "b=500\n",
    "topo = b* a**2/(a**2+y**2)-np.max(np.abs(z))\n",
    "# make sure it's float64\n",
    "topo = CheckFloat64(topo)\n",
    "# save to binary\n",
    "with open(\"topo.bin\", 'wb') as f:\n",
    "    topo.tofile(f)"
   ]
  },
  {
   "cell_type": "code",
   "execution_count": 11,
   "metadata": {
    "collapsed": false
   },
   "outputs": [
    {
     "data": {
      "image/png": "[encoded data removed]",
      "text/plain": [
       "<matplotlib.figure.Figure at 0x116ec51d0>"
      ]
     },
     "metadata": {},
     "output_type": "display_data"
    }
   ],
   "source": [
    "fig, ax = plt.subplots(nrows=1, ncols=2)\n",
    "ax[0].plot(y/1e3,topo,'0.1')\n",
    "ax[0].set(xlim=(-3e2,3e2),ylim=(-3000,0),xlabel='y [km]', ylabel='z [m]', title='whole domain')\n",
    "ax[0].grid()\n",
    "\n",
    "ax[1].plot(y/1e3,topo,'0.1')\n",
    "ax[1].set(xlim=(-2e1,2e1),ylim=(-3000,-2000),xlabel='y [km]', ylabel='z [m]', title='zoom')\n",
    "ax[1].grid()\n",
    "\n",
    "plt.tight_layout()\n",
    "plt.savefig('fig/topo.pdf')"
   ]
  },
  {
   "cell_type": "code",
   "execution_count": 12,
   "metadata": {
    "collapsed": true
   },
   "outputs": [],
   "source": [
    "xx = topo\n",
    "bins = -z\n",
    "inds = np.digitize(xx, bins)\n",
    "topod = -z[inds]"
   ]
  },
  {
   "cell_type": "code",
   "execution_count": 13,
   "metadata": {
    "collapsed": false
   },
   "outputs": [
    {
     "data": {
      "image/png": "[encoded data removed]",
      "text/plain": [
       "<matplotlib.figure.Figure at 0x117005c50>"
      ]
     },
     "metadata": {},
     "output_type": "display_data"
    }
   ],
   "source": [
    "fig, ax = plt.subplots(figsize=(12,4))\n",
    "[ax.axhline(y=yy, linewidth=0.2) for yy in np.arange(-3000,-2280,20)]\n",
    "ax.plot(y/1000, topod, 'k.')\n",
    "ax.set_ylabel('z [m]')\n",
    "ax.set_xlabel('y [km]')\n",
    "ax.set_xlim([-35,35]);"
   ]
  },
  {
   "cell_type": "markdown",
   "metadata": {},
   "source": [
    "## Stratification\n",
    "Using a linear equation of state with $\\alpha_T=2\\times10^{-4}$ and a constant stratification set by $N=1\\times10^{-6}$."
   ]
  },
  {
   "cell_type": "code",
   "execution_count": 14,
   "metadata": {
    "collapsed": true
   },
   "outputs": [],
   "source": [
    "gravity = 9.81;\n",
    "talpha = 2.0e-4;"
   ]
  },
  {
   "cell_type": "markdown",
   "metadata": {},
   "source": [
    "Translate N$^2$ to linear equation of state.\n",
    "$$\n",
    "N^2 = -\\frac{g}{\\rho} \\frac{d \\rho}{dz}\n",
    "$$\n",
    "$$\n",
    "\\rho = \\alpha_T \\theta\n",
    "$$\n",
    "$$\n",
    "T_{z0} = \\frac{N^2}{g \\alpha_T}\n",
    "$$"
   ]
  },
  {
   "cell_type": "code",
   "execution_count": 15,
   "metadata": {
    "collapsed": false
   },
   "outputs": [],
   "source": [
    "N2 = np.ones_like(dz)*1e-6\n",
    "# translate N2 to the linear equation of state\n",
    "tz0 = N2/(gravity*talpha)\n",
    "# integrate vertically\n",
    "t = np.cumsum(-tz0*dz)\n",
    "Tref = t-t[0]+3"
   ]
  },
  {
   "cell_type": "code",
   "execution_count": 19,
   "metadata": {
    "collapsed": false
   },
   "outputs": [
    {
     "data": {
      "image/png": "[encoded data removed]",
      "text/plain": [
       "<matplotlib.figure.Figure at 0x1145d4588>"
      ]
     },
     "metadata": {},
     "output_type": "display_data"
    }
   ],
   "source": [
    "fig, ax = plt.subplots(1,4,sharey=True, figsize=(8,4))\n",
    "ax[0].plot(N2,z)\n",
    "ax[0].set_title('N$^2$')\n",
    "ax[1].plot(tz0,z)\n",
    "ax[1].set_title('T$_{Z0}$')\n",
    "ax[2].plot(t,z)\n",
    "ax[2].set_title('t')\n",
    "ax[3].plot(Tref,z)\n",
    "ax[3].set_title('t$_{ref}$')\n",
    "ax[0].invert_yaxis()\n",
    "for axi in ax:\n",
    "    axi.grid()\n",
    "plt.tight_layout()\n",
    "plt.savefig('fig/n2-tref.pdf')"
   ]
  },
  {
   "cell_type": "markdown",
   "metadata": {},
   "source": [
    "Save profiles for open boundary conditions"
   ]
  },
  {
   "cell_type": "code",
   "execution_count": 20,
   "metadata": {
    "collapsed": false
   },
   "outputs": [
    {
     "name": "stdout",
     "output_type": "stream",
     "text": [
      "its a float64\n"
     ]
    }
   ],
   "source": [
    "Tref = CheckFloat64(Tref)\n",
    "# save to binary\n",
    "with open(\"OB_North_T.bin\", 'wb') as f:\n",
    "    Tref.tofile(f)\n",
    "# save to binary\n",
    "with open(\"OB_South_T.bin\", 'wb') as f:\n",
    "    Tref.tofile(f)\n",
    "# save to binary\n",
    "with open(\"Tref\", 'wb') as f:\n",
    "    Tref.tofile(f)"
   ]
  },
  {
   "cell_type": "code",
   "execution_count": 22,
   "metadata": {
    "collapsed": false
   },
   "outputs": [
    {
     "data": {
      "text/plain": [
       "(100,)"
      ]
     },
     "execution_count": 22,
     "metadata": {},
     "output_type": "execute_result"
    }
   ],
   "source": [
    "Tref.shape"
   ]
  },
  {
   "cell_type": "markdown",
   "metadata": {},
   "source": [
    "## Generate inital stratification\n",
    "Turns out I can just use Tref generated above and don't need a whole field."
   ]
  },
  {
   "cell_type": "markdown",
   "metadata": {
    "collapsed": true
   },
   "source": [
    "## Generate initial velocities"
   ]
  },
  {
   "cell_type": "code",
   "execution_count": 23,
   "metadata": {
    "collapsed": false
   },
   "outputs": [
    {
     "name": "stdout",
     "output_type": "stream",
     "text": [
      "its a float64\n",
      "its a float64\n"
     ]
    }
   ],
   "source": [
    "Vref = np.ones((nz))*0.02\n",
    "Vref = CheckFloat64(Vref)\n",
    "# save to binary\n",
    "with open(\"OB_V.bin\", 'wb') as f:\n",
    "    Vref.tofile(f)\n",
    "\n",
    "Vinit = np.ones([nx,ny,nz])*0.02\n",
    "Vinit = CheckFloat64(Vinit)\n",
    "# save to binary\n",
    "with open(\"V.init\", 'wb') as f:\n",
    "    Vinit.tofile(f)"
   ]
  },
  {
   "cell_type": "code",
   "execution_count": 24,
   "metadata": {
    "collapsed": false
   },
   "outputs": [
    {
     "data": {
      "text/plain": [
       "(1, 2000, 100)"
      ]
     },
     "execution_count": 24,
     "metadata": {},
     "output_type": "execute_result"
    }
   ],
   "source": [
    "Vinit.shape"
   ]
  },
  {
   "cell_type": "markdown",
   "metadata": {},
   "source": [
    "## Scales\n",
    "\n",
    "The topographic Froude number is calculated as\n",
    "$$Fr=\\frac{N H}{U}$$\n",
    "\n",
    "In this run the parameters are $H=500$m, $N^2=1\\times10^{-6}$ and $U=0.02$."
   ]
  },
  {
   "cell_type": "code",
   "execution_count": 25,
   "metadata": {
    "collapsed": false
   },
   "outputs": [
    {
     "name": "stdout",
     "output_type": "stream",
     "text": [
      "25.0\n"
     ]
    }
   ],
   "source": [
    "N = np.sqrt(N2[0])\n",
    "H=500\n",
    "U=0.02\n",
    "Frtopo = N*H/U\n",
    "print(Frtopo)"
   ]
  }
 ],
 "metadata": {
  "kernelspec": {
   "display_name": "Python 3",
   "language": "python",
   "name": "python3"
  },
  "language_info": {
   "codemirror_mode": {
    "name": "ipython",
    "version": 3
   },
   "file_extension": ".py",
   "mimetype": "text/x-python",
   "name": "python",
   "nbconvert_exporter": "python",
   "pygments_lexer": "ipython3",
   "version": "3.5.2"
  }
 },
 "nbformat": 4,
 "nbformat_minor": 2
}
